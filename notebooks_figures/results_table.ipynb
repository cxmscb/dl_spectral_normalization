{
 "cells": [
  {
   "cell_type": "code",
   "execution_count": 1,
   "metadata": {},
   "outputs": [],
   "source": [
    "import os\n",
    "os.environ[\"CUDA_VISIBLE_DEVICES\"]=\"0\""
   ]
  },
  {
   "cell_type": "code",
   "execution_count": 2,
   "metadata": {},
   "outputs": [],
   "source": [
    "import pickle\n",
    "import numpy as np\n",
    "import pandas as pd\n",
    "import seaborn\n",
    "\n",
    "import matplotlib.pyplot as plt\n",
    "\n",
    "from analysis import *\n",
    "\n",
    "import sys\n",
    "sys.path.insert(0, '../') \n",
    "\n",
    "%matplotlib inline"
   ]
  },
  {
   "cell_type": "markdown",
   "metadata": {},
   "source": [
    "# CIFAR10"
   ]
  },
  {
   "cell_type": "code",
   "execution_count": 3,
   "metadata": {},
   "outputs": [],
   "source": [
    "from get_cifar10 import get_cifar10_dataset\n",
    "\n",
    "Xtr, Ytr, Xtt, Ytt = get_cifar10_dataset(0, n_samps=50000)\n",
    "Xva, Yva = Xtt[:500], Ytt[:500]\n",
    "Xtt, Ytt = Xtt[500:], Ytt[500:]\n",
    "C2 = np.mean([np.sqrt(np.sum(np.square(i))) for i in Xtr])\n",
    "gamma = 0.002*C2\n",
    "eps_wrm = 1./(2*gamma)\n",
    "eps = 0.05*C2\n",
    "\n",
    "attacks_dict = {\n",
    "    'erm': 0,\n",
    "    'fgm': eps,\n",
    "    'pgm': eps,\n",
    "    'wrm': eps_wrm\n",
    "}"
   ]
  },
  {
   "cell_type": "code",
   "execution_count": 4,
   "metadata": {},
   "outputs": [
    {
     "name": "stdout",
     "output_type": "stream",
     "text": [
      "ERM training\n",
      "beta = inf:\ttrain acc 1.0000\tvalidation acc 0.7620\ttest acc 0.7889\n",
      "beta = 2.0:\ttrain acc 0.9980\tvalidation acc 0.8140\ttest acc 0.7898\n",
      "WRM training\n",
      "beta = inf:\ttrain acc 0.9999\tvalidation acc 0.5960\ttest acc 0.6113\n",
      "beta = 1.3:\ttrain acc 0.7564\tvalidation acc 0.6120\ttest acc 0.6523\n",
      "PGM training\n",
      "beta = inf:\ttrain acc 0.9854\tvalidation acc 0.4820\ttest acc 0.5043\n",
      "beta = 1.6:\ttrain acc 0.9170\tvalidation acc 0.5980\ttest acc 0.6159\n",
      "FGM training\n",
      "beta = inf:\ttrain acc 0.9831\tvalidation acc 0.5320\ttest acc 0.5441\n",
      "beta = 1.6:\ttrain acc 0.9318\tvalidation acc 0.6180\ttest acc 0.6283\n"
     ]
    }
   ],
   "source": [
    "# AlexNet\n",
    "from dl_spectral_normalization.models import alexnet as model\n",
    "arch = model.alexnet_sn\n",
    "results_file = '/data/save_weights_tf1.10.1/results/table_results_cifar10_alexnet.pickle'\n",
    "dirname = '/data/save_weights_tf1.10.1/cifar10/alexnet/'\n",
    "table_results = get_table_results(Xtr, Ytr, Xva, Yva, Xtt, Ytt, arch,\n",
    "                                  attacks_dict, results_file, dirname)"
   ]
  },
  {
   "cell_type": "code",
   "execution_count": 5,
   "metadata": {
    "scrolled": true
   },
   "outputs": [
    {
     "name": "stdout",
     "output_type": "stream",
     "text": [
      "FGM training\n",
      "beta = inf:\ttrain acc 1.0000\tvalidation acc 0.4700\ttest acc 0.5060\n",
      "beta = 1.3:\ttrain acc 0.6682\tvalidation acc 0.5640\ttest acc 0.5597\n",
      "PGM training\n",
      "beta = inf:\ttrain acc 0.9871\tvalidation acc 0.4260\ttest acc 0.4379\n",
      "beta = 1.6:\ttrain acc 0.8605\tvalidation acc 0.5220\ttest acc 0.5416\n"
     ]
    }
   ],
   "source": [
    "# AlexNet norm-inf attacks (eps=0.1)\n",
    "from dl_spectral_normalization.models import alexnet as model\n",
    "attacks_dict_orderinf = {\n",
    "    'fgm': 0.1,\n",
    "    'pgm': 0.1\n",
    "}\n",
    "arch = model.alexnet_sn\n",
    "results_file = '/data/save_weights_tf1.10.1/results/table_results_cifar10_alexnet_orderinf_eps0.1.pickle'\n",
    "dirname = '/data/save_weights_tf1.10.1/cifar10/alexnet_norminfattacks_eps0.1/'\n",
    "table_results = get_table_results(Xtr, Ytr, Xva, Yva, Xtt, Ytt, arch,\n",
    "                                  attacks_dict_orderinf, results_file, dirname, order=np.inf)"
   ]
  },
  {
   "cell_type": "code",
   "execution_count": 6,
   "metadata": {},
   "outputs": [
    {
     "name": "stdout",
     "output_type": "stream",
     "text": [
      "FGM training\n",
      "beta = inf:\ttrain acc 0.9932\tvalidation acc 0.5500\ttest acc 0.5846\n",
      "beta = 1.3:\ttrain acc 0.8141\tvalidation acc 0.6740\ttest acc 0.6731\n",
      "PGM training\n",
      "beta = inf:\ttrain acc 0.5081\tvalidation acc 0.2140\ttest acc 0.2088\n",
      "beta = 1.3:\ttrain acc 0.3711\tvalidation acc 0.3520\ttest acc 0.3041\n"
     ]
    }
   ],
   "source": [
    "# AlexNet norm-inf attacks (eps=0.3)\n",
    "from dl_spectral_normalization.models import alexnet as model\n",
    "attacks_dict_orderinf = {\n",
    "    'fgm': 0.3,\n",
    "    'pgm': 0.3\n",
    "}\n",
    "arch = model.alexnet_sn\n",
    "results_file = '/data/save_weights_tf1.10.1/results/table_results_cifar10_alexnet_orderinf_eps0.3.pickle'\n",
    "dirname = '/data/save_weights_tf1.10.1/cifar10/alexnet_norminfattacks_eps0.3/'\n",
    "table_results = get_table_results(Xtr, Ytr, Xva, Yva, Xtt, Ytt, arch,\n",
    "                                  attacks_dict_orderinf, results_file, dirname, order=np.inf)"
   ]
  },
  {
   "cell_type": "code",
   "execution_count": 7,
   "metadata": {},
   "outputs": [
    {
     "name": "stdout",
     "output_type": "stream",
     "text": [
      "ERM training\n",
      "beta = inf:\ttrain acc 1.0000\tvalidation acc 0.7700\ttest acc 0.7919\n",
      "beta = 2.0:\ttrain acc 0.9997\tvalidation acc 0.7820\ttest acc 0.7892\n",
      "WRM training\n",
      "beta = inf:\ttrain acc 0.9992\tvalidation acc 0.5580\ttest acc 0.5960\n",
      "beta = 4.0:\ttrain acc 1.0000\tvalidation acc 0.6020\ttest acc 0.5986\n",
      "PGM training\n",
      "beta = inf:\ttrain acc 0.9808\tvalidation acc 0.5280\ttest acc 0.5263\n",
      "beta = 1.6:\ttrain acc 0.8830\tvalidation acc 0.5800\ttest acc 0.6069\n",
      "FGM training\n",
      "beta = inf:\ttrain acc 0.9659\tvalidation acc 0.5080\ttest acc 0.5223\n",
      "beta = 1.3:\ttrain acc 0.6812\tvalidation acc 0.5820\ttest acc 0.6025\n"
     ]
    }
   ],
   "source": [
    "# AlexNet elu\n",
    "from dl_spectral_normalization.models import alexnet as model\n",
    "arch = model.alexnet_elu_sn\n",
    "results_file = '/data/save_weights_tf1.10.1/results/table_results_cifar10_alexnet_elu.pickle'\n",
    "dirname = '/data/save_weights_tf1.10.1/cifar10/alexnet_elu/'\n",
    "table_results = get_table_results(Xtr, Ytr, Xva, Yva, Xtt, Ytt, arch,\n",
    "                                  attacks_dict, results_file, dirname)"
   ]
  },
  {
   "cell_type": "code",
   "execution_count": 8,
   "metadata": {
    "scrolled": true
   },
   "outputs": [
    {
     "name": "stdout",
     "output_type": "stream",
     "text": [
      "ERM training\n",
      "beta = inf:\ttrain acc 0.9780\tvalidation acc 0.4740\ttest acc 0.4920\n",
      "beta = 0.8:\ttrain acc 0.6800\tvalidation acc 0.5100\ttest acc 0.5320\n",
      "WRM training\n",
      "beta = inf:\ttrain acc 0.5977\tvalidation acc 0.3620\ttest acc 0.4081\n",
      "beta = 0.8:\ttrain acc 0.6185\tvalidation acc 0.4840\ttest acc 0.4967\n",
      "PGM training\n",
      "beta = inf:\ttrain acc 0.5741\tvalidation acc 0.3320\ttest acc 0.3587\n",
      "beta = 0.8:\ttrain acc 0.5513\tvalidation acc 0.4200\ttest acc 0.4614\n",
      "FGM training\n",
      "beta = inf:\ttrain acc 0.6030\tvalidation acc 0.3300\ttest acc 0.3622\n",
      "beta = 1.0:\ttrain acc 0.6021\tvalidation acc 0.4440\ttest acc 0.4616\n"
     ]
    }
   ],
   "source": [
    "# mlp1 elu\n",
    "from dl_spectral_normalization.models import mlp as model\n",
    "arch = model.mlp1_elu_sn\n",
    "results_file = '/data/save_weights_tf1.10.1/results/table_results_cifar10_mlp1_elu.pickle'\n",
    "dirname = '/data/save_weights_tf1.10.1/cifar10/mlp1_elu/'\n",
    "table_results = get_table_results(Xtr, Ytr, Xva, Yva, Xtt, Ytt, arch,\n",
    "                                  attacks_dict, results_file, dirname, opt='adam')"
   ]
  },
  {
   "cell_type": "code",
   "execution_count": 9,
   "metadata": {},
   "outputs": [
    {
     "name": "stdout",
     "output_type": "stream",
     "text": [
      "ERM training\n",
      "beta = inf:\ttrain acc 0.9901\tvalidation acc 0.4620\ttest acc 0.5080\n",
      "beta = 1.0:\ttrain acc 0.7938\tvalidation acc 0.5300\ttest acc 0.5587\n",
      "WRM training\n",
      "beta = inf:\ttrain acc 0.8735\tvalidation acc 0.3140\ttest acc 0.3523\n",
      "beta = 1.0:\ttrain acc 0.7272\tvalidation acc 0.4740\ttest acc 0.5200\n",
      "PGM training\n",
      "beta = inf:\ttrain acc 0.9341\tvalidation acc 0.3300\ttest acc 0.3499\n",
      "beta = 1.0:\ttrain acc 0.6561\tvalidation acc 0.4540\ttest acc 0.4835\n",
      "FGM training\n",
      "beta = inf:\ttrain acc 0.5721\tvalidation acc 0.3320\ttest acc 0.3581\n",
      "beta = 1.0:\ttrain acc 0.6611\tvalidation acc 0.4600\ttest acc 0.4876\n"
     ]
    }
   ],
   "source": [
    "# mlp2 elu\n",
    "from dl_spectral_normalization.models import mlp as model\n",
    "arch = model.mlp2_elu_sn\n",
    "results_file = '/data/save_weights_tf1.10.1/results/table_results_cifar10_mlp2_elu.pickle'\n",
    "dirname = '/data/save_weights_tf1.10.1/cifar10/mlp2_elu/'\n",
    "table_results = get_table_results(Xtr, Ytr, Xva, Yva, Xtt, Ytt, arch,\n",
    "                                  attacks_dict, results_file, dirname, opt='adam')"
   ]
  },
  {
   "cell_type": "code",
   "execution_count": 10,
   "metadata": {},
   "outputs": [
    {
     "name": "stdout",
     "output_type": "stream",
     "text": [
      "ERM training\n",
      "beta = inf:\ttrain acc 1.0000\tvalidation acc 0.8440\ttest acc 0.8541\n",
      "beta = 1.6:\ttrain acc 1.0000\tvalidation acc 0.8720\ttest acc 0.8601\n",
      "WRM training\n",
      "beta = inf:\ttrain acc 1.0000\tvalidation acc 0.6520\ttest acc 0.6577\n",
      "beta = 1.6:\ttrain acc 1.0000\tvalidation acc 0.6780\ttest acc 0.6718\n",
      "PGM training\n",
      "beta = inf:\ttrain acc 0.9887\tvalidation acc 0.5180\ttest acc 0.5266\n",
      "beta = 1.6:\ttrain acc 1.0000\tvalidation acc 0.5840\ttest acc 0.5781\n",
      "FGM training\n",
      "beta = inf:\ttrain acc 0.1000\tvalidation acc 0.1140\ttest acc 0.0993\n",
      "beta = 1.0:\ttrain acc 0.6862\tvalidation acc 0.6180\ttest acc 0.6225\n"
     ]
    }
   ],
   "source": [
    "# Inception\n",
    "from dl_spectral_normalization.models import inception as model\n",
    "arch = model.inception_sn\n",
    "results_file = '/data/save_weights_tf1.10.1/results/table_results_cifar10_inception.pickle'\n",
    "dirname = '/data/save_weights_tf1.10.1/cifar10/inception/'\n",
    "table_results = get_table_results(Xtr, Ytr, Xva, Yva, Xtt, Ytt, arch,\n",
    "                                  attacks_dict, results_file, dirname)"
   ]
  },
  {
   "cell_type": "code",
   "execution_count": 11,
   "metadata": {},
   "outputs": [
    {
     "name": "stdout",
     "output_type": "stream",
     "text": [
      "FGM training\n",
      "beta = inf:\ttrain acc 1.0000\tvalidation acc 0.5600\ttest acc 0.5693\n",
      "beta = 1.0:\ttrain acc 0.6363\tvalidation acc 0.5680\ttest acc 0.5673\n",
      "PGM training\n",
      "beta = inf:\ttrain acc 0.9811\tvalidation acc 0.5200\ttest acc 0.4775\n",
      "beta = 1.0:\ttrain acc 0.6217\tvalidation acc 0.5580\ttest acc 0.5551\n"
     ]
    }
   ],
   "source": [
    "# Inception norm-inf attacks (eps=0.1)\n",
    "from dl_spectral_normalization.models import inception as model\n",
    "attacks_dict_orderinf = {\n",
    "    'fgm': 0.1,\n",
    "    'pgm': 0.1\n",
    "}\n",
    "arch = model.inception_sn\n",
    "results_file = '/data/save_weights_tf1.10.1/results/table_results_cifar10_inception_orderinf_eps0.1.pickle'\n",
    "dirname = '/data/save_weights_tf1.10.1/cifar10/inception_norminfattacks_eps0.1/'\n",
    "table_results = get_table_results(Xtr, Ytr, Xva, Yva, Xtt, Ytt, arch,\n",
    "                                  attacks_dict_orderinf, results_file, dirname, order=np.inf)"
   ]
  },
  {
   "cell_type": "code",
   "execution_count": 12,
   "metadata": {},
   "outputs": [
    {
     "name": "stdout",
     "output_type": "stream",
     "text": [
      "ERM training\n",
      "beta = inf:\ttrain acc 1.0000\tvalidation acc 0.8180\ttest acc 0.8044\n",
      "beta = 1.6:\ttrain acc 1.0000\tvalidation acc 0.8400\ttest acc 0.8267\n",
      "WRM training\n",
      "beta = inf:\ttrain acc 1.0000\tvalidation acc 0.6280\ttest acc 0.6286\n",
      "beta = 1.6:\ttrain acc 1.0000\tvalidation acc 0.6500\ttest acc 0.6563\n",
      "PGM training\n",
      "beta = inf:\ttrain acc 0.9921\tvalidation acc 0.4760\ttest acc 0.4894\n",
      "beta = 2.5:\ttrain acc 1.0000\tvalidation acc 0.5860\ttest acc 0.5456\n",
      "FGM training\n",
      "beta = inf:\ttrain acc 0.1000\tvalidation acc 0.1140\ttest acc 0.0993\n",
      "beta = 1.0:\ttrain acc 0.8501\tvalidation acc 0.5740\ttest acc 0.5874\n"
     ]
    }
   ],
   "source": [
    "# ResNet\n",
    "from dl_spectral_normalization.models import resnet as model\n",
    "arch = model.resnet_sn\n",
    "arch_bn = model.resnet\n",
    "results_file = '/data/save_weights_tf1.10.1/results/table_results_cifar10_resnet.pickle'\n",
    "dirname = '/data/save_weights_tf1.10.1/cifar10/resnet/'\n",
    "table_results = get_table_results(Xtr, Ytr, Xva, Yva, Xtt, Ytt, arch,\n",
    "                                  attacks_dict, results_file, dirname)"
   ]
  },
  {
   "cell_type": "code",
   "execution_count": 13,
   "metadata": {},
   "outputs": [
    {
     "name": "stdout",
     "output_type": "stream",
     "text": [
      "FGM training\n",
      "beta = inf:\ttrain acc 0.9879\tvalidation acc 0.4820\ttest acc 0.4872\n",
      "beta = 1.0:\ttrain acc 0.7015\tvalidation acc 0.5260\ttest acc 0.5153\n",
      "PGM training\n",
      "beta = inf:\ttrain acc 0.9795\tvalidation acc 0.4200\ttest acc 0.4402\n",
      "beta = 1.0:\ttrain acc 0.7153\tvalidation acc 0.5020\ttest acc 0.5278\n"
     ]
    }
   ],
   "source": [
    "# ResNet norm-inf attacks (eps=0.1)\n",
    "from dl_spectral_normalization.models import resnet as model\n",
    "attacks_dict_orderinf = {\n",
    "    'fgm': 0.1,\n",
    "    'pgm': 0.1\n",
    "}\n",
    "arch = model.resnet_sn\n",
    "results_file = '/data/save_weights_tf1.10.1/results/table_results_cifar10_resnet_orderinf_eps0.1.pickle'\n",
    "dirname = '/data/save_weights_tf1.10.1/cifar10/resnet_norminfattacks_eps0.1/'\n",
    "table_results = get_table_results(Xtr, Ytr, Xva, Yva, Xtt, Ytt, arch,\n",
    "                                  attacks_dict_orderinf, results_file, dirname, order=np.inf)"
   ]
  },
  {
   "cell_type": "markdown",
   "metadata": {},
   "source": [
    "# MNIST"
   ]
  },
  {
   "cell_type": "code",
   "execution_count": 14,
   "metadata": {},
   "outputs": [
    {
     "name": "stdout",
     "output_type": "stream",
     "text": [
      "WARNING:tensorflow:From <ipython-input-14-68ddcc8ce1f5>:3: read_data_sets (from tensorflow.contrib.learn.python.learn.datasets.mnist) is deprecated and will be removed in a future version.\n",
      "Instructions for updating:\n",
      "Please use alternatives such as official/mnist/dataset.py from tensorflow/models.\n",
      "WARNING:tensorflow:From /usr/local/lib/python2.7/dist-packages/tensorflow/contrib/learn/python/learn/datasets/mnist.py:260: maybe_download (from tensorflow.contrib.learn.python.learn.datasets.base) is deprecated and will be removed in a future version.\n",
      "Instructions for updating:\n",
      "Please write your own downloading logic.\n",
      "WARNING:tensorflow:From /usr/local/lib/python2.7/dist-packages/tensorflow/contrib/learn/python/learn/datasets/mnist.py:262: extract_images (from tensorflow.contrib.learn.python.learn.datasets.mnist) is deprecated and will be removed in a future version.\n",
      "Instructions for updating:\n",
      "Please use tf.data to implement this functionality.\n",
      "Extracting MNIST_data/train-images-idx3-ubyte.gz\n",
      "WARNING:tensorflow:From /usr/local/lib/python2.7/dist-packages/tensorflow/contrib/learn/python/learn/datasets/mnist.py:267: extract_labels (from tensorflow.contrib.learn.python.learn.datasets.mnist) is deprecated and will be removed in a future version.\n",
      "Instructions for updating:\n",
      "Please use tf.data to implement this functionality.\n",
      "Extracting MNIST_data/train-labels-idx1-ubyte.gz\n",
      "Extracting MNIST_data/t10k-images-idx3-ubyte.gz\n",
      "Extracting MNIST_data/t10k-labels-idx1-ubyte.gz\n",
      "WARNING:tensorflow:From /usr/local/lib/python2.7/dist-packages/tensorflow/contrib/learn/python/learn/datasets/mnist.py:290: __init__ (from tensorflow.contrib.learn.python.learn.datasets.mnist) is deprecated and will be removed in a future version.\n",
      "Instructions for updating:\n",
      "Please use alternatives such as official/mnist/dataset.py from tensorflow/models.\n"
     ]
    }
   ],
   "source": [
    "from tensorflow.examples.tutorials.mnist import input_data\n",
    "\n",
    "mnist = input_data.read_data_sets(\"MNIST_data/\", one_hot=False)\n",
    "Xtr = mnist.train.images.reshape(-1, 28, 28, 1)\n",
    "Ytr = mnist.train.labels.astype(float)\n",
    "Xtt = mnist.test.images.reshape(-1, 28, 28, 1)\n",
    "Ytt = mnist.test.labels.astype(float)\n",
    "\n",
    "Xva, Yva = Xtt[:500], Ytt[:500]\n",
    "Xtt, Ytt = Xtt[500:], Ytt[500:]\n",
    "C2 = np.mean([np.sqrt(np.sum(np.square(i))) for i in Xtr])\n",
    "gamma = 0.04*C2\n",
    "eps_wrm = 1./(2*gamma)\n",
    "eps = 0.05*C2\n",
    "\n",
    "attacks_dict = {\n",
    "    'erm': 0,\n",
    "    'fgm': eps,\n",
    "    'pgm': eps,\n",
    "    'wrm': eps_wrm\n",
    "}\n",
    "\n",
    "dirname = '/data/save_weights_tf1.10.1/mnist/elunet/'"
   ]
  },
  {
   "cell_type": "code",
   "execution_count": 15,
   "metadata": {
    "scrolled": true
   },
   "outputs": [
    {
     "name": "stdout",
     "output_type": "stream",
     "text": [
      "FGM training\n",
      "beta = inf:\ttrain acc 0.9809\tvalidation acc 0.9440\ttest acc 0.9469\n",
      "beta = 8.0:\ttrain acc 0.9867\tvalidation acc 0.9560\ttest acc 0.9512\n",
      "PGM training\n",
      "beta = inf:\ttrain acc 0.9803\tvalidation acc 0.9420\ttest acc 0.9471\n",
      "beta = inf:\ttrain acc 0.9803\tvalidation acc 0.9420\ttest acc 0.9471\n"
     ]
    }
   ],
   "source": [
    "# elunet norm-inf attacks (eps=0.1)\n",
    "from dl_spectral_normalization.models import elunet as model\n",
    "attacks_dict_orderinf = {\n",
    "    'fgm': 0.1,\n",
    "    'pgm': 0.1\n",
    "}\n",
    "arch = model.elunet_sn\n",
    "results_file = '/data/save_weights_tf1.10.1/results/table_results_mnist_elunet_orderinf_eps0.1.pickle'\n",
    "dirname = '/data/save_weights_tf1.10.1/mnist/elunet_norminfattacks_eps0.1/'\n",
    "table_results = get_table_results(Xtr, Ytr, Xva, Yva, Xtt, Ytt, arch,\n",
    "                                  attacks_dict_orderinf, results_file, dirname, order=np.inf,\n",
    "                                  load_epoch=25)"
   ]
  },
  {
   "cell_type": "code",
   "execution_count": 16,
   "metadata": {},
   "outputs": [
    {
     "name": "stdout",
     "output_type": "stream",
     "text": [
      "ERM training\n",
      "beta = inf:\ttrain acc 0.9987\tvalidation acc 0.9900\ttest acc 0.9867\n",
      "beta = inf:\ttrain acc 0.9987\tvalidation acc 0.9900\ttest acc 0.9867\n",
      "WRM training\n",
      "beta = inf:\ttrain acc 0.9453\tvalidation acc 0.9020\ttest acc 0.9216\n",
      "beta = 4.0:\ttrain acc 0.9514\tvalidation acc 0.9160\ttest acc 0.9268\n",
      "PGM training\n",
      "beta = inf:\ttrain acc 0.9942\tvalidation acc 0.9660\ttest acc 0.9732\n",
      "beta = 4.0:\ttrain acc 0.9963\tvalidation acc 0.9800\ttest acc 0.9739\n",
      "FGM training\n",
      "beta = inf:\ttrain acc 0.9833\tvalidation acc 0.9560\ttest acc 0.9662\n",
      "beta = 4.0:\ttrain acc 0.9962\tvalidation acc 0.9800\ttest acc 0.9740\n"
     ]
    }
   ],
   "source": [
    "# elunet\n",
    "from dl_spectral_normalization.models import elunet as model\n",
    "arch = model.elunet_sn\n",
    "results_file = '/data/save_weights_tf1.10.1/results/table_results_mnist_elunet.pickle'\n",
    "dirname = '/data/save_weights_tf1.10.1/mnist/elunet/'\n",
    "table_results = get_table_results(Xtr, Ytr, Xva, Yva, Xtt, Ytt, arch,\n",
    "                                  attacks_dict, results_file, dirname,\n",
    "                                  load_epoch=25)"
   ]
  },
  {
   "cell_type": "code",
   "execution_count": 17,
   "metadata": {},
   "outputs": [
    {
     "name": "stdout",
     "output_type": "stream",
     "text": [
      "ERM training\n",
      "beta = inf:\ttrain acc 0.9417\tvalidation acc 0.9260\ttest acc 0.9266\n",
      "beta = 16.0:\ttrain acc 0.9403\tvalidation acc 0.9320\ttest acc 0.9280\n",
      "WRM training\n",
      "beta = inf:\ttrain acc 0.6295\tvalidation acc 0.5980\ttest acc 0.6479\n",
      "beta = 1.0:\ttrain acc 0.6819\tvalidation acc 0.6520\ttest acc 0.6977\n",
      "PGM training\n",
      "beta = inf:\ttrain acc 0.8403\tvalidation acc 0.8220\ttest acc 0.8454\n",
      "beta = 16.0:\ttrain acc 0.8402\tvalidation acc 0.8220\ttest acc 0.8453\n",
      "FGM training\n",
      "beta = inf:\ttrain acc 0.8425\tvalidation acc 0.8300\ttest acc 0.8464\n",
      "beta = 16.0:\ttrain acc 0.8424\tvalidation acc 0.8300\ttest acc 0.8464\n"
     ]
    }
   ],
   "source": [
    "# softmax\n",
    "from dl_spectral_normalization.models import softmax as model\n",
    "arch = model.softmax_sn\n",
    "results_file = '/data/save_weights_tf1.10.1/results/table_results_mnist_softmax.pickle'\n",
    "dirname = '/data/save_weights_tf1.10.1/mnist/softmax/'\n",
    "table_results = get_table_results(Xtr, Ytr, Xva, Yva, Xtt, Ytt, arch,\n",
    "                                  attacks_dict, results_file, dirname)"
   ]
  },
  {
   "cell_type": "code",
   "execution_count": 18,
   "metadata": {
    "scrolled": true
   },
   "outputs": [
    {
     "name": "stdout",
     "output_type": "stream",
     "text": [
      "ERM training\n",
      "beta = inf:\ttrain acc 1.0000\tvalidation acc 0.9820\ttest acc 0.9813\n",
      "beta = inf:\ttrain acc 1.0000\tvalidation acc 0.9820\ttest acc 0.9813\n",
      "WRM training\n",
      "beta = inf:\ttrain acc 0.9153\tvalidation acc 0.8220\ttest acc 0.8757\n",
      "beta = 8.0:\ttrain acc 0.9158\tvalidation acc 0.8300\ttest acc 0.8769\n",
      "PGM training\n",
      "beta = inf:\ttrain acc 0.9979\tvalidation acc 0.9560\ttest acc 0.9577\n",
      "beta = 16.0:\ttrain acc 1.0000\tvalidation acc 0.9600\ttest acc 0.9585\n",
      "FGM training\n",
      "beta = inf:\ttrain acc 0.8817\tvalidation acc 0.8560\ttest acc 0.8762\n",
      "beta = 8.0:\ttrain acc 0.9994\tvalidation acc 0.9580\ttest acc 0.9593\n"
     ]
    }
   ],
   "source": [
    "# mlp1 elu\n",
    "from dl_spectral_normalization.models import mlp as model\n",
    "arch = model.mlp1_elu_sn\n",
    "results_file = '/data/save_weights_tf1.10.1/results/table_results_mnist_mlp1_elu.pickle'\n",
    "dirname = '/data/save_weights_tf1.10.1/mnist/mlp1_elu/'\n",
    "table_results = get_table_results(Xtr, Ytr, Xva, Yva, Xtt, Ytt, arch,\n",
    "                                  attacks_dict, results_file, dirname)"
   ]
  },
  {
   "cell_type": "code",
   "execution_count": 19,
   "metadata": {},
   "outputs": [
    {
     "name": "stdout",
     "output_type": "stream",
     "text": [
      "ERM training\n",
      "beta = inf:\ttrain acc 0.9999\tvalidation acc 0.9840\ttest acc 0.9824\n",
      "beta = 8.0:\ttrain acc 1.0000\tvalidation acc 0.9900\ttest acc 0.9837\n",
      "WRM training\n",
      "beta = inf:\ttrain acc 0.9102\tvalidation acc 0.8360\ttest acc 0.8686\n",
      "beta = 8.0:\ttrain acc 0.9274\tvalidation acc 0.8400\ttest acc 0.8708\n",
      "PGM training\n",
      "beta = inf:\ttrain acc 0.9946\tvalidation acc 0.9520\ttest acc 0.9487\n",
      "beta = 4.0:\ttrain acc 0.9993\tvalidation acc 0.9660\ttest acc 0.9596\n",
      "FGM training\n",
      "beta = inf:\ttrain acc 0.8989\tvalidation acc 0.8800\ttest acc 0.8907\n",
      "beta = 4.0:\ttrain acc 0.9996\tvalidation acc 0.9580\ttest acc 0.9606\n"
     ]
    }
   ],
   "source": [
    "# mlp1 relu\n",
    "from dl_spectral_normalization.models import mlp as model\n",
    "arch = model.mlp1_relu_sn\n",
    "results_file = '/data/save_weights_tf1.10.1/results/table_results_mnist_mlp1_relu.pickle'\n",
    "dirname = '/data/save_weights_tf1.10.1/mnist/mlp1_relu/'\n",
    "table_results = get_table_results(Xtr, Ytr, Xva, Yva, Xtt, Ytt, arch,\n",
    "                                  attacks_dict, results_file, dirname)"
   ]
  },
  {
   "cell_type": "code",
   "execution_count": 20,
   "metadata": {
    "scrolled": true
   },
   "outputs": [
    {
     "name": "stdout",
     "output_type": "stream",
     "text": [
      "ERM training\n",
      "beta = inf:\ttrain acc 0.9987\tvalidation acc 0.9760\ttest acc 0.9805\n",
      "beta = 2.0:\ttrain acc 0.9994\tvalidation acc 0.9840\ttest acc 0.9821\n",
      "WRM training\n",
      "beta = inf:\ttrain acc 0.9715\tvalidation acc 0.8340\ttest acc 0.8808\n",
      "beta = 16.0:\ttrain acc 0.9840\tvalidation acc 0.8780\ttest acc 0.8995\n",
      "PGM training\n",
      "beta = inf:\ttrain acc 0.9984\tvalidation acc 0.9640\ttest acc 0.9628\n",
      "beta = 4.0:\ttrain acc 1.0000\tvalidation acc 0.9700\ttest acc 0.9675\n",
      "FGM training\n",
      "beta = inf:\ttrain acc 0.9688\tvalidation acc 0.8940\ttest acc 0.9136\n",
      "beta = 8.0:\ttrain acc 0.9991\tvalidation acc 0.9720\ttest acc 0.9645\n"
     ]
    }
   ],
   "source": [
    "# mlp2 elu\n",
    "from dl_spectral_normalization.models import mlp as model\n",
    "arch = model.mlp2_elu_sn\n",
    "results_file = '/data/save_weights_tf1.10.1/results/table_results_mnist_mlp2_elu.pickle'\n",
    "dirname = '/data/save_weights_tf1.10.1/mnist/mlp2_elu/'\n",
    "table_results = get_table_results(Xtr, Ytr, Xva, Yva, Xtt, Ytt, arch,\n",
    "                                  attacks_dict, results_file, dirname)"
   ]
  },
  {
   "cell_type": "code",
   "execution_count": 21,
   "metadata": {},
   "outputs": [
    {
     "name": "stdout",
     "output_type": "stream",
     "text": [
      "ERM training\n",
      "beta = inf:\ttrain acc 0.9989\tvalidation acc 0.9760\ttest acc 0.9808\n",
      "beta = 16.0:\ttrain acc 1.0000\tvalidation acc 0.9860\ttest acc 0.9845\n",
      "WRM training\n",
      "beta = inf:\ttrain acc 0.9751\tvalidation acc 0.8420\ttest acc 0.8835\n",
      "beta = 4.0:\ttrain acc 0.9925\tvalidation acc 0.8940\ttest acc 0.9091\n",
      "PGM training\n",
      "beta = inf:\ttrain acc 0.9981\tvalidation acc 0.9460\ttest acc 0.9595\n",
      "beta = 4.0:\ttrain acc 1.0000\tvalidation acc 0.9740\ttest acc 0.9698\n",
      "FGM training\n",
      "beta = inf:\ttrain acc 0.9545\tvalidation acc 0.8860\ttest acc 0.9043\n",
      "beta = 2.0:\ttrain acc 0.9990\tvalidation acc 0.9800\ttest acc 0.9717\n"
     ]
    }
   ],
   "source": [
    "# mlp2 relu\n",
    "from dl_spectral_normalization.models import mlp as model\n",
    "arch = model.mlp2_relu_sn\n",
    "results_file = '/data/save_weights_tf1.10.1/results/table_results_mnist_mlp2_relu.pickle'\n",
    "dirname = '/data/save_weights_tf1.10.1/mnist/mlp2_relu/'\n",
    "table_results = get_table_results(Xtr, Ytr, Xva, Yva, Xtt, Ytt, arch,\n",
    "                                  attacks_dict, results_file, dirname)"
   ]
  },
  {
   "cell_type": "markdown",
   "metadata": {},
   "source": [
    "# SVHN"
   ]
  },
  {
   "cell_type": "code",
   "execution_count": 22,
   "metadata": {},
   "outputs": [],
   "source": [
    "from get_cifar10 import get_svhn_dataset\n",
    "\n",
    "Xtr, Ytr, Xtt, Ytt = get_svhn_dataset(0)\n",
    "Xva, Yva = Xtt[:500], Ytt[:500]\n",
    "Xtt, Ytt = Xtt[500:], Ytt[500:]\n",
    "C2 = np.mean([np.sqrt(np.sum(np.square(i))) for i in Xtr])\n",
    "gamma = 0.002*C2\n",
    "eps_wrm = 1./(2*gamma)\n",
    "eps = 0.05*C2\n",
    "\n",
    "attacks_dict = {\n",
    "    'erm': 0,\n",
    "    'fgm': eps,\n",
    "    'pgm': eps,\n",
    "    'wrm': eps_wrm\n",
    "}"
   ]
  },
  {
   "cell_type": "code",
   "execution_count": 23,
   "metadata": {
    "scrolled": true
   },
   "outputs": [
    {
     "name": "stdout",
     "output_type": "stream",
     "text": [
      "ERM training\n",
      "beta = inf:\ttrain acc 1.0000\tvalidation acc 0.9220\ttest acc 0.9295\n",
      "beta = inf:\ttrain acc 1.0000\tvalidation acc 0.9220\ttest acc 0.9295\n",
      "WRM training\n",
      "beta = inf:\ttrain acc 0.9993\tvalidation acc 0.8060\ttest acc 0.8295\n",
      "beta = 1.3:\ttrain acc 0.8722\tvalidation acc 0.8300\ttest acc 0.8403\n",
      "PGM training\n",
      "beta = inf:\ttrain acc 0.9992\tvalidation acc 0.7700\ttest acc 0.7798\n",
      "beta = 1.3:\ttrain acc 0.8453\tvalidation acc 0.8160\ttest acc 0.8126\n",
      "FGM training\n",
      "beta = inf:\ttrain acc 0.9660\tvalidation acc 0.7420\ttest acc 0.7648\n",
      "beta = 1.6:\ttrain acc 0.9506\tvalidation acc 0.8380\ttest acc 0.8311\n"
     ]
    }
   ],
   "source": [
    "# AlexNet\n",
    "from dl_spectral_normalization.models import alexnet as model\n",
    "arch = model.alexnet_sn\n",
    "results_file = '/data/save_weights_tf1.10.1/results/table_results_svhn_alexnet.pickle'\n",
    "dirname = '/data/save_weights_tf1.10.1/svhn/alexnet/'\n",
    "table_results = get_table_results(Xtr, Ytr, Xva, Yva, Xtt, Ytt, arch,\n",
    "                                  attacks_dict, results_file, dirname)"
   ]
  },
  {
   "cell_type": "markdown",
   "metadata": {},
   "source": [
    "# Table of everything"
   ]
  },
  {
   "cell_type": "code",
   "execution_count": 24,
   "metadata": {},
   "outputs": [
    {
     "name": "stdout",
     "output_type": "stream",
     "text": [
      "table_results_cifar10_alexnet.pickle\n",
      "table_results_cifar10_alexnet_elu.pickle\n",
      "table_results_cifar10_alexnet_orderinf_eps0.1.pickle\n",
      "table_results_cifar10_alexnet_orderinf_eps0.3.pickle\n",
      "table_results_cifar10_inception.pickle\n",
      "table_results_cifar10_inception_orderinf_eps0.1.pickle\n",
      "table_results_cifar10_mlp1_elu.pickle\n",
      "table_results_cifar10_mlp2_elu.pickle\n",
      "table_results_cifar10_resnet.pickle\n",
      "table_results_cifar10_resnet_orderinf_eps0.1.pickle\n",
      "table_results_cifar10_softmax.pickle\n",
      "table_results_mnist_elunet.pickle\n",
      "table_results_mnist_elunet_orderinf_eps0.1.pickle\n",
      "table_results_mnist_mlp1_elu.pickle\n",
      "table_results_mnist_mlp1_relu.pickle\n",
      "table_results_mnist_mlp2_elu.pickle\n",
      "table_results_mnist_mlp2_relu.pickle\n",
      "table_results_mnist_softmax.pickle\n",
      "table_results_svhn_alexnet.pickle\n"
     ]
    }
   ],
   "source": [
    "cols = [\n",
    "    'Dataset',\n",
    "    'Architecture',\n",
    "    'Training',\n",
    "    'Train acc',\n",
    "    'Test acc',\n",
    "    'Train acc (SN)',\n",
    "    'Test acc (SN)',\n",
    "    'Beta'\n",
    "]\n",
    "\n",
    "# Dataset, architecture, training combinations to ignore\n",
    "ignore_combinations = {\n",
    "    ('cifar10', 'resnet', 'fgm'),\n",
    "    ('cifar10', 'inception', 'fgm'),\n",
    "    ('mnist', 'mlp2_relu', 'erm'),\n",
    "    ('mnist', 'mlp2_relu', 'fgm'),\n",
    "    ('mnist', 'mlp2_relu', 'pgm'),\n",
    "    ('mnist', 'mlp2_relu', 'wrm'),\n",
    "    ('mnist', 'mlp1_relu', 'erm'),\n",
    "    ('mnist', 'mlp1_relu', 'fgm'),\n",
    "    ('mnist', 'mlp1_relu', 'pgm'),\n",
    "    ('mnist', 'mlp1_relu', 'wrm'),\n",
    "    ('cifar10', 'softmax', 'erm'),\n",
    "    ('cifar10', 'softmax', 'fgm'),\n",
    "    ('cifar10', 'softmax', 'pgm'),\n",
    "    ('cifar10', 'softmax', 'wrm'),\n",
    "    ('mnist', 'softmax', 'erm'),\n",
    "    ('mnist', 'softmax', 'fgm'),\n",
    "    ('mnist', 'softmax', 'pgm'),\n",
    "    ('mnist', 'softmax', 'wrm'),\n",
    "    ('mnist', 'elunet_orderinf_eps0.1', 'fgm'),\n",
    "    ('mnist', 'elunet_orderinf_eps0.1', 'pgm'),\n",
    "    ('cifar10', 'alexnet_orderinf_eps0.3', 'fgm'),\n",
    "    ('cifar10', 'alexnet_orderinf_eps0.3', 'pgm'),\n",
    "    ('cifar10', 'inception_orderinf_eps0.1', 'fgm'),\n",
    "    ('cifar10', 'resnet_orderinf_eps0.1', 'fgm')\n",
    "}\n",
    "\n",
    "table = {col:[] for col in cols}\n",
    "\n",
    "results_dir = '/data/save_weights_tf1.10.1/results/'\n",
    "for f in sorted(os.listdir(results_dir)):\n",
    "    if 'table_results' in f:\n",
    "        print(f)\n",
    "        \n",
    "        results_file = os.path.join(results_dir, f)\n",
    "        table_results = pickle.load(file(results_file, 'rb'))\n",
    "        \n",
    "        dataset = f.split('_')[2]\n",
    "        architecture = f.split(dataset+'_')[1].split('.pickle')[0]\n",
    "        \n",
    "        for training in ['erm', 'fgm', 'pgm', 'wrm']:\n",
    "            if (dataset, architecture, training) not in ignore_combinations and training in table_results:\n",
    "                tr_accs, va_accs, tt_accs = table_results[training]\n",
    "                best_beta = print_best_beta(tr_accs, va_accs, tt_accs, printinf=False, return_beta=True)\n",
    "                \n",
    "                table['Dataset'].append(dataset)\n",
    "                table['Architecture'].append(architecture)\n",
    "                table['Training'].append(training)\n",
    "                table['Train acc'].append(table_results[training][0][np.inf])\n",
    "                table['Test acc'].append(table_results[training][2][np.inf])\n",
    "                table['Train acc (SN)'].append(table_results[training][0][best_beta])\n",
    "                table['Test acc (SN)'].append(table_results[training][2][best_beta])\n",
    "                table['Beta'].append(best_beta)\n",
    "            \n",
    "tabledf = pd.DataFrame.from_dict(table)[cols]"
   ]
  },
  {
   "cell_type": "code",
   "execution_count": 25,
   "metadata": {},
   "outputs": [],
   "source": [
    "# Some formatting stuff\n",
    "tabledf['Dataset'] = map(lambda x: x.upper(), tabledf['Dataset'])\n",
    "tabledf['Training'] = map(lambda x: x.upper(), tabledf['Training'])\n",
    "tabledf.loc[tabledf['Architecture'] == 'alexnet', 'Architecture'] = 'AlexNet'\n",
    "tabledf.loc[tabledf['Architecture'] == 'alexnet_elu', 'Architecture'] = 'ELU-AlexNet'\n",
    "tabledf.loc[tabledf['Architecture'] == 'inception', 'Architecture'] = 'Inception'\n",
    "tabledf.loc[tabledf['Architecture'] == 'resnet', 'Architecture'] = 'ResNet'\n",
    "tabledf.loc[tabledf['Architecture'] == 'mlp1_elu', 'Architecture'] = '1-layer MLP'\n",
    "tabledf.loc[tabledf['Architecture'] == 'mlp2_elu', 'Architecture'] = '2-layer MLP'\n",
    "tabledf.loc[tabledf['Architecture'] == 'elunet', 'Architecture'] = 'ELU-Net'\n",
    "tabledf.loc[tabledf['Architecture'] == 'softmax', 'Architecture'] = 'Softmax'"
   ]
  },
  {
   "cell_type": "code",
   "execution_count": null,
   "metadata": {},
   "outputs": [],
   "source": [
    "# dirname = '/data/save_weights_tf1.10.1/cifar10/timing/'\n",
    "# timingsfile = os.path.join(dirname, 'timings_nodatashuffle.pickle')\n",
    "# timings = pickle.load(open(timingsfile, 'rb'))"
   ]
  },
  {
   "cell_type": "code",
   "execution_count": 27,
   "metadata": {},
   "outputs": [],
   "source": [
    "# Save table to file\n",
    "tabledf.to_csv(os.path.join(results_dir, 'table.txt'), sep=' ', index=False, header=True)"
   ]
  },
  {
   "cell_type": "code",
   "execution_count": 28,
   "metadata": {},
   "outputs": [
    {
     "name": "stdout",
     "output_type": "stream",
     "text": [
      "\\begin{tabular}{lllrrrr}\n",
      "\\toprule\n",
      " Dataset &               Architecture & Training &  Train acc &  Test acc &  Train acc (SN) &  Test acc (SN) \\\\\n",
      "\\midrule\n",
      " CIFAR10 &                    AlexNet &      ERM &       1.00 &      0.79 &            1.00 &           0.79 \\\\\n",
      " CIFAR10 &                    AlexNet &      FGM &       0.98 &      0.54 &            0.93 &           0.63 \\\\\n",
      " CIFAR10 &                    AlexNet &      PGM &       0.99 &      0.50 &            0.92 &           0.62 \\\\\n",
      " CIFAR10 &                    AlexNet &      WRM &       1.00 &      0.61 &            0.76 &           0.65 \\\\\n",
      " CIFAR10 &                ELU-AlexNet &      ERM &       1.00 &      0.79 &            1.00 &           0.79 \\\\\n",
      " CIFAR10 &                ELU-AlexNet &      FGM &       0.97 &      0.52 &            0.68 &           0.60 \\\\\n",
      " CIFAR10 &                ELU-AlexNet &      PGM &       0.98 &      0.53 &            0.88 &           0.61 \\\\\n",
      " CIFAR10 &                ELU-AlexNet &      WRM &       1.00 &      0.60 &            1.00 &           0.60 \\\\\n",
      " CIFAR10 &    alexnet\\_orderinf\\_eps0.1 &      FGM &       1.00 &      0.51 &            0.67 &           0.56 \\\\\n",
      " CIFAR10 &    alexnet\\_orderinf\\_eps0.1 &      PGM &       0.99 &      0.44 &            0.86 &           0.54 \\\\\n",
      " CIFAR10 &                  Inception &      ERM &       1.00 &      0.85 &            1.00 &           0.86 \\\\\n",
      " CIFAR10 &                  Inception &      PGM &       0.99 &      0.53 &            1.00 &           0.58 \\\\\n",
      " CIFAR10 &                  Inception &      WRM &       1.00 &      0.66 &            1.00 &           0.67 \\\\\n",
      " CIFAR10 &  inception\\_orderinf\\_eps0.1 &      PGM &       0.98 &      0.48 &            0.62 &           0.56 \\\\\n",
      " CIFAR10 &                1-layer MLP &      ERM &       0.98 &      0.49 &            0.68 &           0.53 \\\\\n",
      " CIFAR10 &                1-layer MLP &      FGM &       0.60 &      0.36 &            0.60 &           0.46 \\\\\n",
      " CIFAR10 &                1-layer MLP &      PGM &       0.57 &      0.36 &            0.55 &           0.46 \\\\\n",
      " CIFAR10 &                1-layer MLP &      WRM &       0.60 &      0.41 &            0.62 &           0.50 \\\\\n",
      " CIFAR10 &                2-layer MLP &      ERM &       0.99 &      0.51 &            0.79 &           0.56 \\\\\n",
      " CIFAR10 &                2-layer MLP &      FGM &       0.57 &      0.36 &            0.66 &           0.49 \\\\\n",
      " CIFAR10 &                2-layer MLP &      PGM &       0.93 &      0.35 &            0.66 &           0.48 \\\\\n",
      " CIFAR10 &                2-layer MLP &      WRM &       0.87 &      0.35 &            0.73 &           0.52 \\\\\n",
      " CIFAR10 &                     ResNet &      ERM &       1.00 &      0.80 &            1.00 &           0.83 \\\\\n",
      " CIFAR10 &                     ResNet &      PGM &       0.99 &      0.49 &            1.00 &           0.55 \\\\\n",
      " CIFAR10 &                     ResNet &      WRM &       1.00 &      0.63 &            1.00 &           0.66 \\\\\n",
      " CIFAR10 &     resnet\\_orderinf\\_eps0.1 &      PGM &       0.98 &      0.44 &            0.72 &           0.53 \\\\\n",
      "   MNIST &                    ELU-Net &      ERM &       1.00 &      0.99 &            1.00 &           0.99 \\\\\n",
      "   MNIST &                    ELU-Net &      FGM &       0.98 &      0.97 &            1.00 &           0.97 \\\\\n",
      "   MNIST &                    ELU-Net &      PGM &       0.99 &      0.97 &            1.00 &           0.97 \\\\\n",
      "   MNIST &                    ELU-Net &      WRM &       0.95 &      0.92 &            0.95 &           0.93 \\\\\n",
      "   MNIST &                1-layer MLP &      ERM &       1.00 &      0.98 &            1.00 &           0.98 \\\\\n",
      "   MNIST &                1-layer MLP &      FGM &       0.88 &      0.88 &            1.00 &           0.96 \\\\\n",
      "   MNIST &                1-layer MLP &      PGM &       1.00 &      0.96 &            1.00 &           0.96 \\\\\n",
      "   MNIST &                1-layer MLP &      WRM &       0.92 &      0.88 &            0.92 &           0.88 \\\\\n",
      "   MNIST &                2-layer MLP &      ERM &       1.00 &      0.98 &            1.00 &           0.98 \\\\\n",
      "   MNIST &                2-layer MLP &      FGM &       0.97 &      0.91 &            1.00 &           0.96 \\\\\n",
      "   MNIST &                2-layer MLP &      PGM &       1.00 &      0.96 &            1.00 &           0.97 \\\\\n",
      "   MNIST &                2-layer MLP &      WRM &       0.97 &      0.88 &            0.98 &           0.90 \\\\\n",
      "    SVHN &                    AlexNet &      ERM &       1.00 &      0.93 &            1.00 &           0.93 \\\\\n",
      "    SVHN &                    AlexNet &      FGM &       0.97 &      0.76 &            0.95 &           0.83 \\\\\n",
      "    SVHN &                    AlexNet &      PGM &       1.00 &      0.78 &            0.85 &           0.81 \\\\\n",
      "    SVHN &                    AlexNet &      WRM &       1.00 &      0.83 &            0.87 &           0.84 \\\\\n",
      "\\bottomrule\n",
      "\\end{tabular}\n",
      "\n"
     ]
    }
   ],
   "source": [
    "# Print latex for table\n",
    "print(tabledf.round(2).drop(['Beta'], axis=1).to_latex(index=False))"
   ]
  },
  {
   "cell_type": "code",
   "execution_count": 29,
   "metadata": {},
   "outputs": [
    {
     "data": {
      "image/png": "[encoded data removed]",
      "text/plain": [
       "<Figure size 720x201.6 with 4 Axes>"
      ]
     },
     "metadata": {},
     "output_type": "display_data"
    }
   ],
   "source": [
    "markers = ['s', 'o', 'v', 'D', '+', '.', '^', '*']\n",
    "plt.figure(figsize=(10, 2.8))\n",
    "for i, adv in enumerate(['ERM', 'FGM', 'PGM', 'WRM']):\n",
    "    plt.subplot(1, 4, i+1)\n",
    "    plt.plot([0, 1], [0, 1], lw=0.3, c='k')\n",
    "    for j, dataset in enumerate(['CIFAR10', 'MNIST', 'SVHN']):\n",
    "        rows = tabledf.loc[(tabledf['Training'] == adv) & (tabledf['Dataset'] == dataset)]\n",
    "        plt.scatter(rows['Test acc'], rows['Test acc (SN)'], label=dataset,\n",
    "                    marker=markers[j], edgecolor='k')\n",
    "    plt.xlabel('Test acc without SN')\n",
    "    if i == 0:\n",
    "        plt.ylabel('Test acc with SN')\n",
    "        plt.legend(loc=4)\n",
    "    plt.title('%s training'%(adv.upper()))\n",
    "    plt.axis('equal')\n",
    "plt.tight_layout()\n",
    "plt.savefig('/data/Figures/table_scatterplots.pdf', format='pdf', dpi=500, bbox_inches='tight')\n",
    "plt.show()"
   ]
  },
  {
   "cell_type": "code",
   "execution_count": 30,
   "metadata": {},
   "outputs": [
    {
     "data": {
      "image/png": "[encoded data removed]",
      "text/plain": [
       "<Figure size 720x201.6 with 4 Axes>"
      ]
     },
     "metadata": {},
     "output_type": "display_data"
    }
   ],
   "source": [
    "markers = ['s', 'o', 'v', 'D', '+', '.', '^', '*']\n",
    "plt.figure(figsize=(10, 2.8))\n",
    "for i, adv in enumerate(['ERM', 'FGM', 'PGM', 'WRM']):\n",
    "    plt.subplot(1, 4, i+1)\n",
    "    for j, dataset in enumerate(['CIFAR10', 'MNIST', 'SVHN']):\n",
    "        rows = tabledf.loc[(tabledf['Training'] == adv) & (tabledf['Dataset'] == dataset)]\n",
    "        plt.scatter(rows['Test acc'], rows['Test acc (SN)']-rows['Test acc'], label=dataset,\n",
    "                    marker=markers[j], edgecolor='k')\n",
    "    plt.xlabel('Test acc')\n",
    "    if i == 0:\n",
    "        plt.ylabel('Gain in test acc after SN')\n",
    "        plt.legend(loc=1)\n",
    "    plt.title('%s training'%(adv.upper()))\n",
    "    plt.ylim([-0.02, 0.2])\n",
    "#     plt.axis('equal')\n",
    "plt.tight_layout()\n",
    "plt.savefig('/data/Figures/table_scatterplots.pdf', format='pdf', dpi=500, bbox_inches='tight')\n",
    "plt.show()"
   ]
  }
 ],
 "metadata": {
  "kernelspec": {
   "display_name": "Python 2",
   "language": "python",
   "name": "python2"
  },
  "language_info": {
   "codemirror_mode": {
    "name": "ipython",
    "version": 2
   },
   "file_extension": ".py",
   "mimetype": "text/x-python",
   "name": "python",
   "nbconvert_exporter": "python",
   "pygments_lexer": "ipython2",
   "version": "2.7.12"
  }
 },
 "nbformat": 4,
 "nbformat_minor": 2
}
