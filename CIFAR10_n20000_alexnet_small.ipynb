{
 "cells": [
  {
   "cell_type": "code",
   "execution_count": null,
   "metadata": {
    "collapsed": true
   },
   "outputs": [],
   "source": [
    "import os\n",
    "os.environ[\"CUDA_VISIBLE_DEVICES\"]=\"0\""
   ]
  },
  {
   "cell_type": "code",
   "execution_count": null,
   "metadata": {},
   "outputs": [],
   "source": [
    "import tensorflow as tf\n",
    "import numpy as np\n",
    "import matplotlib.pyplot as plt\n",
    "\n",
    "from spectral_adversarial_regularization.models import alexnet_small as model\n",
    "from spectral_adversarial_regularization import dl_utils\n",
    "from get_cifar10 import get_cifar10_dataset\n",
    "\n",
    "maindir = 'save_weights_n20000_alexnet_small/'\n",
    "retrain = True\n",
    "save_every = 50\n",
    "num_classes = 10\n",
    "num_epochs = 500"
   ]
  },
  {
   "cell_type": "code",
   "execution_count": null,
   "metadata": {
    "collapsed": true
   },
   "outputs": [],
   "source": [
    "# Load dataset\n",
    "n_samps = 20000\n",
    "\n",
    "# each value: Xtr, Ytr, Xtt, Ytt\n",
    "data = {\n",
    "    'true': get_cifar10_dataset(0, n_samps=n_samps),\n",
    "    'rand': get_cifar10_dataset(100, n_samps=n_samps)\n",
    "}"
   ]
  },
  {
   "cell_type": "markdown",
   "metadata": {},
   "source": [
    "# 1. Basic model (no spectral normalization or regularization)"
   ]
  },
  {
   "cell_type": "code",
   "execution_count": null,
   "metadata": {
    "collapsed": true
   },
   "outputs": [],
   "source": [
    "for k in data:\n",
    "    \n",
    "    Xtr, Ytr, Xtt, Ytt = data[k]\n",
    "    val_set = {'X': Xtt[:500], 'Y': Ytt[:500]}\n",
    "\n",
    "    save_dir = '%salexnet_%s/'%(maindir, k)\n",
    "    if retrain: os.system('rm -rf %s'%(save_dir))\n",
    "\n",
    "    _ = dl_utils.build_graph_and_train(Xtr, Ytr, save_dir, num_classes,\n",
    "                                       arch=model.alexnet,\n",
    "                                       num_epochs=num_epochs,\n",
    "                                       save_every=save_every,\n",
    "                                       val_set=val_set,\n",
    "                                       early_stop_acc=0.995)"
   ]
  },
  {
   "cell_type": "markdown",
   "metadata": {},
   "source": [
    "# 2. Spectral normalization on all layers"
   ]
  },
  {
   "cell_type": "code",
   "execution_count": null,
   "metadata": {
    "collapsed": true
   },
   "outputs": [],
   "source": [
    "for k in data:\n",
    "    \n",
    "    Xtr, Ytr, Xtt, Ytt = data[k]\n",
    "    val_set = {'X': Xtt[:500], 'Y': Ytt[:500]}\n",
    "\n",
    "    save_dir = '%salexnet_%s_sn/'%(maindir, k)\n",
    "    if retrain: os.system('rm -rf %s'%(save_dir))\n",
    "\n",
    "    _ = dl_utils.build_graph_and_train(Xtr, Ytr, save_dir, num_classes,\n",
    "                                       arch=model.alexnet_sn,\n",
    "                                       num_epochs=num_epochs,\n",
    "                                       save_every=save_every,\n",
    "                                       val_set=val_set,\n",
    "                                       early_stop_acc=0.995)"
   ]
  },
  {
   "cell_type": "markdown",
   "metadata": {},
   "source": [
    "# 3. Spectral normalization on all except last layer, which is L2 regularized"
   ]
  },
  {
   "cell_type": "code",
   "execution_count": null,
   "metadata": {
    "collapsed": true
   },
   "outputs": [],
   "source": [
    "for wd in [0, 4e-2, 4e-1, 1, 4]:\n",
    "\n",
    "    for k in data:\n",
    "\n",
    "        Xtr, Ytr, Xtt, Ytt = data[k]\n",
    "        val_set = {'X': Xtt[:500], 'Y': Ytt[:500]}\n",
    "\n",
    "        save_dir = '%salexnet_%s_sar_wd%s/'%(maindir, k, wd)\n",
    "        if retrain: os.system('rm -rf %s'%(save_dir))\n",
    "\n",
    "        _ = dl_utils.build_graph_and_train(Xtr, Ytr, save_dir, num_classes,\n",
    "                                           wd=wd,\n",
    "                                           arch=model.alexnet_sar,\n",
    "                                           num_epochs=num_epochs,\n",
    "                                           save_every=save_every,\n",
    "                                           val_set=val_set,\n",
    "                                           early_stop_acc=0.995)"
   ]
  }
 ],
 "metadata": {
  "kernelspec": {
   "display_name": "Python 2",
   "language": "python",
   "name": "python2"
  },
  "language_info": {
   "codemirror_mode": {
    "name": "ipython",
    "version": 2
   },
   "file_extension": ".py",
   "mimetype": "text/x-python",
   "name": "python",
   "nbconvert_exporter": "python",
   "pygments_lexer": "ipython2",
   "version": "2.7.13"
  }
 },
 "nbformat": 4,
 "nbformat_minor": 2
}
