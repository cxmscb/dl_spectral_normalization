{
 "cells": [
  {
   "cell_type": "code",
   "execution_count": 1,
   "metadata": {
    "collapsed": true
   },
   "outputs": [],
   "source": [
    "import os\n",
    "os.environ[\"CUDA_VISIBLE_DEVICES\"]=\"1\""
   ]
  },
  {
   "cell_type": "code",
   "execution_count": 5,
   "metadata": {},
   "outputs": [
    {
     "name": "stdout",
     "output_type": "stream",
     "text": [
      "The autoreload extension is already loaded. To reload it, use:\n",
      "  %reload_ext autoreload\n"
     ]
    }
   ],
   "source": [
    "%load_ext autoreload\n",
    "%autoreload 2\n",
    "\n",
    "import pickle\n",
    "import time\n",
    "import tensorflow as tf\n",
    "import numpy as np\n",
    "import matplotlib.pyplot as plt\n",
    "\n",
    "from spectral_adversarial_regularization.models import elunet as model\n",
    "from spectral_adversarial_regularization import dl_utils\n",
    "\n",
    "%matplotlib inline"
   ]
  },
  {
   "cell_type": "code",
   "execution_count": 3,
   "metadata": {},
   "outputs": [
    {
     "name": "stdout",
     "output_type": "stream",
     "text": [
      "Extracting MNIST_data/train-images-idx3-ubyte.gz\n",
      "Extracting MNIST_data/train-labels-idx1-ubyte.gz\n",
      "Extracting MNIST_data/t10k-images-idx3-ubyte.gz\n",
      "Extracting MNIST_data/t10k-labels-idx1-ubyte.gz\n"
     ]
    }
   ],
   "source": [
    "from tensorflow.examples.tutorials.mnist import input_data\n",
    "\n",
    "mnist = input_data.read_data_sets(\"MNIST_data/\", one_hot=False)\n",
    "\n",
    "Xtr = mnist.train.images.reshape(-1, 28, 28, 1)\n",
    "Ytr = mnist.train.labels.astype(float)\n",
    "\n",
    "Xtt = mnist.test.images.reshape(-1, 28, 28, 1)\n",
    "Ytt = mnist.test.labels.astype(float)\n",
    "\n",
    "num_classes = 10\n",
    "val_set = {'X': Xtt[:500], 'Y': Ytt[:500]}\n",
    "C2 = np.mean([np.sqrt(np.sum(np.square(i))) for i in Xtr])\n",
    "eps = 0.05*C2"
   ]
  },
  {
   "cell_type": "code",
   "execution_count": 7,
   "metadata": {
    "collapsed": true
   },
   "outputs": [],
   "source": [
    "def train_network(Xtr, Ytr, val_set, arch, save_dir, eps=0.3,\n",
    "                  gpu_prop=0.05, num_epochs=100, save_every=25, beta=1,\n",
    "                  step_adv=None, adv_robustness=None, retrain=True):\n",
    "    \n",
    "    if retrain: os.system('rm -rf %s'%(save_dir))\n",
    "        \n",
    "    _ = dl_utils.build_graph_and_train(Xtr, Ytr, save_dir, num_classes,\n",
    "                                       arch=arch,\n",
    "                                       num_epochs=num_epochs,\n",
    "                                       save_every=save_every,\n",
    "                                       num_channels=1,\n",
    "                                       val_set=val_set,\n",
    "                                       early_stop_acc=0.995,\n",
    "                                       gpu_prop=gpu_prop,\n",
    "                                       beta=beta,\n",
    "                                       eps=eps,\n",
    "                                       step_adv=step_adv,\n",
    "                                       adv_robustness=adv_robustness)\n",
    "\n",
    "\n",
    "from spectral_adversarial_regularization import adversarial as ad\n",
    "\n",
    "def get_adv_acc_curve(X, Y, save_dir, arch, eps_list, order=2, method=ad.fgm, beta=1.):\n",
    "    \n",
    "    adv_accs = np.zeros(len(eps_list))\n",
    "    acc = dl_utils.build_graph_and_predict(X, save_dir, arch=arch, Y=Y, beta=beta, num_channels=1)\n",
    "    print('Acc on examples: %.2f'%(acc))\n",
    "    for i, eps in enumerate(eps_list):\n",
    "        adv_accs[i] = ad.test_net_against_adv_examples(X, Y, save_dir, arch, beta=beta, num_channels=1,\n",
    "                                                       method=method, order=order, eps=eps)\n",
    "    return acc, adv_accs"
   ]
  },
  {
   "cell_type": "code",
   "execution_count": null,
   "metadata": {},
   "outputs": [
    {
     "name": "stdout",
     "output_type": "stream",
     "text": [
      "Epoch 14/100 (1825.769 s), batch 167/550 (85.434 s): loss 0.008, acc 1.0000"
     ]
    }
   ],
   "source": [
    "arch = model.elunet\n",
    "methods = ['wrm']\n",
    "\n",
    "for method in methods:\n",
    "    save_dir = os.path.join('save_weights_final', 'mnist', method)\n",
    "    train_network(Xtr, Ytr, val_set, arch, save_dir, eps=eps, adv_robustness=method)"
   ]
  },
  {
   "cell_type": "code",
   "execution_count": null,
   "metadata": {
    "scrolled": false
   },
   "outputs": [],
   "source": [
    "# Evaluate robustness of networks\n",
    "eps_list = np.arange(0, 2.5, 0.25)\n",
    "methods = ['erm', 'fgm', 'pgm', 'wrm']\n",
    "adv_results_pgm = {}\n",
    "\n",
    "for method in methods:\n",
    "    save_dir = os.path.join('save_weights_final', 'mnist', method)\n",
    "    s_norm = dl_utils.get_overall_sn(num_classes, save_dir, arch, num_channels=1)\n",
    "    acc, adv_accs = get_adv_acc_curve(Xtt[500:2500], Ytt[500:2500], save_dir, arch, eps_list,\n",
    "                                            order=2, method=ad.pgm, beta=1.)\n",
    "    \n",
    "    adv_results_pgm[method] = (acc, adv_accs, s_norm)\n",
    "    \n",
    "plt.figure(figsize=(10, 7))\n",
    "for method in methods:\n",
    "    plt.plot(eps_list/C2, 1.-adv_results_pgm[method][1], label='%s (test acc %.2f, sn %.2e)'\\\n",
    "             %(method, adv_results_pgm[method][0], adv_results_pgm[method][2]))\n",
    "    \n",
    "plt.xlabel(r'$\\epsilon/C_2$')\n",
    "plt.ylabel('Error')\n",
    "plt.ylim(1e-2, 1e0)\n",
    "plt.yscale('log')\n",
    "plt.title('PGM attacks')\n",
    "plt.legend(bbox_to_anchor=(1.4, 1))\n",
    "plt.grid()\n",
    "plt.show()"
   ]
  },
  {
   "cell_type": "code",
   "execution_count": null,
   "metadata": {
    "collapsed": true
   },
   "outputs": [],
   "source": []
  }
 ],
 "metadata": {
  "kernelspec": {
   "display_name": "Python 2",
   "language": "python",
   "name": "python2"
  },
  "language_info": {
   "codemirror_mode": {
    "name": "ipython",
    "version": 2
   },
   "file_extension": ".py",
   "mimetype": "text/x-python",
   "name": "python",
   "nbconvert_exporter": "python",
   "pygments_lexer": "ipython2",
   "version": "2.7.13"
  }
 },
 "nbformat": 4,
 "nbformat_minor": 2
}
