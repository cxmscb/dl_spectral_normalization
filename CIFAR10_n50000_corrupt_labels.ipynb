{
 "cells": [
  {
   "cell_type": "code",
   "execution_count": 1,
   "metadata": {
    "collapsed": true
   },
   "outputs": [],
   "source": [
    "import os\n",
    "os.environ[\"CUDA_VISIBLE_DEVICES\"]=\"0\""
   ]
  },
  {
   "cell_type": "code",
   "execution_count": 2,
   "metadata": {
    "collapsed": true
   },
   "outputs": [],
   "source": [
    "%load_ext autoreload\n",
    "%autoreload 2\n",
    "\n",
    "import os\n",
    "import tensorflow as tf\n",
    "import numpy as np\n",
    "import matplotlib.pyplot as plt\n",
    "\n",
    "from spectral_adversarial_regularization.models import inception_tightsn as model\n",
    "from spectral_adversarial_regularization import dl_utils\n",
    "from get_cifar10 import get_cifar10_dataset\n",
    "\n",
    "maindir = 'save_weights_n50000_inception_tightsn_label_corrupt/'\n",
    "retrain = True\n",
    "save_every = 50\n",
    "num_classes = 10\n",
    "num_epochs = 500\n",
    "\n",
    "%matplotlib inline"
   ]
  },
  {
   "cell_type": "code",
   "execution_count": 3,
   "metadata": {
    "collapsed": true
   },
   "outputs": [],
   "source": [
    "# Load dataset\n",
    "\n",
    "# Parameters for loading data\n",
    "n_samps = 50000\n",
    "wd = \n",
    "\n",
    "for p_corrupt_label in [10, 20, 30, 50, 70, 90]:\n",
    "    \n",
    "    Xtr, Ytr, Xtt, Ytt = get_cifar10_dataset(p_corrupt_label, n_samps=n_samps)\n",
    "    val_set = {'X': Xtt[:500], 'Y': Ytt[:500]}\n",
    "    \n",
    "    save_dir = '%ssn_wd%s_p%s/'%(maindir, wd, p_corrupt_label)\n",
    "    if retrain: os.system('rm -rf %s'%(save_dir))\n",
    "\n",
    "    _ = dl_utils.build_graph_and_train(Xtr, Ytr, save_dir, num_classes,\n",
    "                                       arch=model.inception_sar,\n",
    "                                       num_epochs=num_epochs,\n",
    "                                       save_every=save_every,\n",
    "                                       val_set=val_set,\n",
    "                                       early_stop_acc=0.995)"
   ]
  }
 ],
 "metadata": {
  "kernelspec": {
   "display_name": "Python 2",
   "language": "python",
   "name": "python2"
  },
  "language_info": {
   "codemirror_mode": {
    "name": "ipython",
    "version": 2
   },
   "file_extension": ".py",
   "mimetype": "text/x-python",
   "name": "python",
   "nbconvert_exporter": "python",
   "pygments_lexer": "ipython2",
   "version": "2.7.13"
  }
 },
 "nbformat": 4,
 "nbformat_minor": 2
}
