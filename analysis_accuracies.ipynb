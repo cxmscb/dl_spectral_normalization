{
 "cells": [
  {
   "cell_type": "markdown",
   "metadata": {},
   "source": [
    "# Table of final train/test accuracies"
   ]
  },
  {
   "cell_type": "code",
   "execution_count": 1,
   "metadata": {
    "collapsed": true
   },
   "outputs": [],
   "source": [
    "import os\n",
    "os.environ[\"CUDA_VISIBLE_DEVICES\"]=\"0\""
   ]
  },
  {
   "cell_type": "code",
   "execution_count": 2,
   "metadata": {
    "collapsed": true
   },
   "outputs": [],
   "source": [
    "%load_ext autoreload\n",
    "%autoreload 2\n",
    "\n",
    "import time\n",
    "import os\n",
    "import tensorflow as tf\n",
    "import numpy as np\n",
    "import pandas as pd\n",
    "import matplotlib.pyplot as plt\n",
    "from IPython.display import display\n",
    "\n",
    "from spectral_adversarial_regularization import dl_utils\n",
    "from spectral_adversarial_regularization import adversarial as ad\n",
    "from spectral_adversarial_regularization.models import *\n",
    "\n",
    "%matplotlib inline"
   ]
  },
  {
   "cell_type": "code",
   "execution_count": 3,
   "metadata": {
    "collapsed": true
   },
   "outputs": [],
   "source": [
    "from get_cifar10 import get_cifar10_dataset\n",
    "\n",
    "# Load dataset\n",
    "n_samps = 50000\n",
    "num_classes = 10\n",
    "\n",
    "# each value: Xtr, Ytr, Xtt, Ytt\n",
    "data = {\n",
    "    'true': get_cifar10_dataset(0, n_samps=n_samps),\n",
    "    'rand': get_cifar10_dataset(100, n_samps=n_samps)\n",
    "}\n",
    "\n",
    "data = {\n",
    "    'true': (data['true'][0], data['true'][1], data['true'][2][500:], data['true'][3][500:]),\n",
    "    'rand': (data['rand'][0], data['rand'][1], data['rand'][2][500:], data['rand'][3][500:])\n",
    "}\n",
    "\n",
    "\n",
    "data_small = {\n",
    "    'true': (data['true'][0][:1000], data['true'][1][:1000], data['true'][2][:1000], data['true'][3][:1000]),\n",
    "    'rand': (data['rand'][0][:1000], data['rand'][1][:1000], data['rand'][2][:1000], data['rand'][3][:1000])\n",
    "}"
   ]
  },
  {
   "cell_type": "code",
   "execution_count": 4,
   "metadata": {
    "collapsed": true
   },
   "outputs": [],
   "source": [
    "def get_train_test(Xtr, Ytr, Xtt, Ytt, save_dir, arch):\n",
    "    acc_train = dl_utils.build_graph_and_predict(Xtr, save_dir, arch=arch, Y=Ytr)\n",
    "    acc_test = dl_utils.build_graph_and_predict(Xtt, save_dir, arch=arch, Y=Ytt)\n",
    "    return acc_train, acc_test\n",
    "\n",
    "def sort_func(fname):\n",
    "    if 'wd' not in fname:\n",
    "        return (-1, fname)\n",
    "    return (float(fname.split('wd')[1]), fname)\n",
    "\n",
    "def get_all_accs(data, arch_name, models):\n",
    "    \n",
    "    out_dict = {\n",
    "        'arch_names':[arch_name],\n",
    "        'train_acc_true': [],\n",
    "        'test_acc_true': [],\n",
    "        'train_acc_rand': [],\n",
    "        'test_acc_rand': []\n",
    "    }\n",
    "    \n",
    "    main_dir = 'save_weights_n50000_%s_tightsn'%(arch_name)\n",
    "    \n",
    "    for j, i in enumerate(data.keys()):\n",
    "\n",
    "        Xtr, Ytr, Xtt, Ytt = data[i]\n",
    "\n",
    "        save_dir = 'save_weights_n50000_%s/%s_%s/'%(arch_name, arch_name, i)\n",
    "        acc_train, acc_test = get_train_test(Xtr, Ytr, Xtt, Ytt, save_dir, arch=models['default'])\n",
    "        out_dict['train_acc_%s'%(i)].append(acc_train)\n",
    "        out_dict['test_acc_%s'%(i)].append(acc_test)\n",
    "\n",
    "        for f in sorted(os.listdir(main_dir), key=sort_func):\n",
    "\n",
    "            if i in f:\n",
    "                name = f.replace('_rand', '').replace('_true', '')\n",
    "                \n",
    "                if j == 0:\n",
    "                    out_dict['arch_names'].append(name)\n",
    "                \n",
    "                save_dir = os.path.join(main_dir, f)\n",
    "                acc_train, acc_test = get_train_test(Xtr, Ytr, Xtt, Ytt, save_dir, models[f.split('_')[2]])\n",
    "                \n",
    "                out_dict['train_acc_%s'%(i)].append(acc_train)\n",
    "                out_dict['test_acc_%s'%(i)].append(acc_test)\n",
    "            \n",
    "    return out_dict\n",
    "\n",
    "def visualize_results(out_dict):\n",
    "    display(pd.DataFrame.from_dict(out_dict))\n",
    "    \n",
    "    plt.figure(figsize=(10, 7))\n",
    "    wd = [i.split('wd')[1] for i in out_dict['arch_names'][3:]]\n",
    "    for k in out_dict:\n",
    "        if k != 'arch_names':\n",
    "            plt.plot(wd, out_dict[k][3:], label=k)\n",
    "    plt.xlabel('weight decay on last layer')\n",
    "    plt.xscale('log')\n",
    "    plt.ylabel('accuracy')\n",
    "    plt.grid()\n",
    "    plt.legend()"
   ]
  },
  {
   "cell_type": "code",
   "execution_count": 23,
   "metadata": {
    "scrolled": true
   },
   "outputs": [
    {
     "name": "stdout",
     "output_type": "stream",
     "text": [
      "INFO:tensorflow:Restoring parameters from save_weights_n50000_alexnet/alexnet_rand/checkpoints/epoch80\n",
      "INFO:tensorflow:Restoring parameters from save_weights_n50000_alexnet/alexnet_rand/checkpoints/epoch80\n",
      "INFO:tensorflow:Restoring parameters from save_weights_n50000_alexnet_tightsn/alexnet_rand_sn/checkpoints/epoch499\n",
      "INFO:tensorflow:Restoring parameters from save_weights_n50000_alexnet_tightsn/alexnet_rand_sn/checkpoints/epoch499\n",
      "INFO:tensorflow:Restoring parameters from save_weights_n50000_alexnet_tightsn/alexnet_rand_sar_wd0/checkpoints/epoch234\n",
      "INFO:tensorflow:Restoring parameters from save_weights_n50000_alexnet_tightsn/alexnet_rand_sar_wd0/checkpoints/epoch234\n",
      "INFO:tensorflow:Restoring parameters from save_weights_n50000_alexnet_tightsn/alexnet_rand_sar_wd4e-05/checkpoints/epoch249\n",
      "INFO:tensorflow:Restoring parameters from save_weights_n50000_alexnet_tightsn/alexnet_rand_sar_wd4e-05/checkpoints/epoch249\n",
      "INFO:tensorflow:Restoring parameters from save_weights_n50000_alexnet_tightsn/alexnet_rand_sar_wd0.0004/checkpoints/epoch499\n",
      "INFO:tensorflow:Restoring parameters from save_weights_n50000_alexnet_tightsn/alexnet_rand_sar_wd0.0004/checkpoints/epoch499\n",
      "INFO:tensorflow:Restoring parameters from save_weights_n50000_alexnet_tightsn/alexnet_rand_sar_wd0.004/checkpoints/epoch499\n",
      "INFO:tensorflow:Restoring parameters from save_weights_n50000_alexnet_tightsn/alexnet_rand_sar_wd0.004/checkpoints/epoch499\n",
      "INFO:tensorflow:Restoring parameters from save_weights_n50000_alexnet_tightsn/alexnet_rand_sar_wd0.0075/checkpoints/epoch499\n",
      "INFO:tensorflow:Restoring parameters from save_weights_n50000_alexnet_tightsn/alexnet_rand_sar_wd0.0075/checkpoints/epoch499\n",
      "INFO:tensorflow:Restoring parameters from save_weights_n50000_alexnet_tightsn/alexnet_rand_sar_wd0.01/checkpoints/epoch499\n",
      "INFO:tensorflow:Restoring parameters from save_weights_n50000_alexnet_tightsn/alexnet_rand_sar_wd0.01/checkpoints/epoch499\n",
      "INFO:tensorflow:Restoring parameters from save_weights_n50000_alexnet_tightsn/alexnet_rand_sar_wd0.025/checkpoints/epoch499\n",
      "INFO:tensorflow:Restoring parameters from save_weights_n50000_alexnet_tightsn/alexnet_rand_sar_wd0.025/checkpoints/epoch499\n",
      "INFO:tensorflow:Restoring parameters from save_weights_n50000_alexnet_tightsn/alexnet_rand_sar_wd0.04/checkpoints/epoch499\n",
      "INFO:tensorflow:Restoring parameters from save_weights_n50000_alexnet_tightsn/alexnet_rand_sar_wd0.04/checkpoints/epoch499\n",
      "INFO:tensorflow:Restoring parameters from save_weights_n50000_alexnet/alexnet_true/checkpoints/epoch34\n",
      "INFO:tensorflow:Restoring parameters from save_weights_n50000_alexnet/alexnet_true/checkpoints/epoch34\n",
      "INFO:tensorflow:Restoring parameters from save_weights_n50000_alexnet_tightsn/alexnet_true_sn/checkpoints/epoch499\n",
      "INFO:tensorflow:Restoring parameters from save_weights_n50000_alexnet_tightsn/alexnet_true_sn/checkpoints/epoch499\n",
      "INFO:tensorflow:Restoring parameters from save_weights_n50000_alexnet_tightsn/alexnet_true_sar_wd0/checkpoints/epoch134\n",
      "INFO:tensorflow:Restoring parameters from save_weights_n50000_alexnet_tightsn/alexnet_true_sar_wd0/checkpoints/epoch134\n",
      "INFO:tensorflow:Restoring parameters from save_weights_n50000_alexnet_tightsn/alexnet_true_sar_wd4e-05/checkpoints/epoch144\n",
      "INFO:tensorflow:Restoring parameters from save_weights_n50000_alexnet_tightsn/alexnet_true_sar_wd4e-05/checkpoints/epoch144\n",
      "INFO:tensorflow:Restoring parameters from save_weights_n50000_alexnet_tightsn/alexnet_true_sar_wd0.0004/checkpoints/epoch356\n",
      "INFO:tensorflow:Restoring parameters from save_weights_n50000_alexnet_tightsn/alexnet_true_sar_wd0.0004/checkpoints/epoch356\n",
      "INFO:tensorflow:Restoring parameters from save_weights_n50000_alexnet_tightsn/alexnet_true_sar_wd0.004/checkpoints/epoch499\n",
      "INFO:tensorflow:Restoring parameters from save_weights_n50000_alexnet_tightsn/alexnet_true_sar_wd0.004/checkpoints/epoch499\n",
      "INFO:tensorflow:Restoring parameters from save_weights_n50000_alexnet_tightsn/alexnet_true_sar_wd0.0075/checkpoints/epoch499\n",
      "INFO:tensorflow:Restoring parameters from save_weights_n50000_alexnet_tightsn/alexnet_true_sar_wd0.0075/checkpoints/epoch499\n",
      "INFO:tensorflow:Restoring parameters from save_weights_n50000_alexnet_tightsn/alexnet_true_sar_wd0.01/checkpoints/epoch499\n",
      "INFO:tensorflow:Restoring parameters from save_weights_n50000_alexnet_tightsn/alexnet_true_sar_wd0.01/checkpoints/epoch499\n",
      "INFO:tensorflow:Restoring parameters from save_weights_n50000_alexnet_tightsn/alexnet_true_sar_wd0.025/checkpoints/epoch499\n",
      "INFO:tensorflow:Restoring parameters from save_weights_n50000_alexnet_tightsn/alexnet_true_sar_wd0.025/checkpoints/epoch499\n",
      "INFO:tensorflow:Restoring parameters from save_weights_n50000_alexnet_tightsn/alexnet_true_sar_wd0.04/checkpoints/epoch499\n",
      "INFO:tensorflow:Restoring parameters from save_weights_n50000_alexnet_tightsn/alexnet_true_sar_wd0.04/checkpoints/epoch499\n"
     ]
    }
   ],
   "source": [
    "arch_name = 'alexnet'\n",
    "\n",
    "models = {\n",
    "    'default': alexnet.alexnet,\n",
    "    'sn': alexnet_tightsn.alexnet_sn,\n",
    "    'sar': alexnet_tightsn.alexnet_sar\n",
    "}\n",
    "\n",
    "out_dict = get_all_accs(data_small, arch_name, models)"
   ]
  },
  {
   "cell_type": "code",
   "execution_count": 39,
   "metadata": {},
   "outputs": [
    {
     "data": {
      "text/html": [
       "<div>\n",
       "<style>\n",
       "    .dataframe thead tr:only-child th {\n",
       "        text-align: right;\n",
       "    }\n",
       "\n",
       "    .dataframe thead th {\n",
       "        text-align: left;\n",
       "    }\n",
       "\n",
       "    .dataframe tbody tr th {\n",
       "        vertical-align: top;\n",
       "    }\n",
       "</style>\n",
       "<table border=\"1\" class=\"dataframe\">\n",
       "  <thead>\n",
       "    <tr style=\"text-align: right;\">\n",
       "      <th></th>\n",
       "      <th>arch_names</th>\n",
       "      <th>test_acc_rand</th>\n",
       "      <th>test_acc_true</th>\n",
       "      <th>train_acc_rand</th>\n",
       "      <th>train_acc_true</th>\n",
       "    </tr>\n",
       "  </thead>\n",
       "  <tbody>\n",
       "    <tr>\n",
       "      <th>0</th>\n",
       "      <td>alexnet</td>\n",
       "      <td>0.122</td>\n",
       "      <td>0.777</td>\n",
       "      <td>0.999</td>\n",
       "      <td>0.998</td>\n",
       "    </tr>\n",
       "    <tr>\n",
       "      <th>1</th>\n",
       "      <td>alexnet_sn</td>\n",
       "      <td>0.114</td>\n",
       "      <td>0.635</td>\n",
       "      <td>0.383</td>\n",
       "      <td>0.671</td>\n",
       "    </tr>\n",
       "    <tr>\n",
       "      <th>2</th>\n",
       "      <td>alexnet_sar_wd0</td>\n",
       "      <td>0.100</td>\n",
       "      <td>0.797</td>\n",
       "      <td>1.000</td>\n",
       "      <td>1.000</td>\n",
       "    </tr>\n",
       "    <tr>\n",
       "      <th>3</th>\n",
       "      <td>alexnet_sar_wd4e-05</td>\n",
       "      <td>0.087</td>\n",
       "      <td>0.788</td>\n",
       "      <td>0.999</td>\n",
       "      <td>1.000</td>\n",
       "    </tr>\n",
       "    <tr>\n",
       "      <th>4</th>\n",
       "      <td>alexnet_sar_wd0.0004</td>\n",
       "      <td>0.100</td>\n",
       "      <td>0.793</td>\n",
       "      <td>0.991</td>\n",
       "      <td>0.996</td>\n",
       "    </tr>\n",
       "    <tr>\n",
       "      <th>5</th>\n",
       "      <td>alexnet_sar_wd0.004</td>\n",
       "      <td>0.099</td>\n",
       "      <td>0.733</td>\n",
       "      <td>0.632</td>\n",
       "      <td>0.860</td>\n",
       "    </tr>\n",
       "    <tr>\n",
       "      <th>6</th>\n",
       "      <td>alexnet_sar_wd0.0075</td>\n",
       "      <td>0.098</td>\n",
       "      <td>0.715</td>\n",
       "      <td>0.450</td>\n",
       "      <td>0.791</td>\n",
       "    </tr>\n",
       "    <tr>\n",
       "      <th>7</th>\n",
       "      <td>alexnet_sar_wd0.01</td>\n",
       "      <td>0.106</td>\n",
       "      <td>0.703</td>\n",
       "      <td>0.370</td>\n",
       "      <td>0.757</td>\n",
       "    </tr>\n",
       "    <tr>\n",
       "      <th>8</th>\n",
       "      <td>alexnet_sar_wd0.025</td>\n",
       "      <td>0.114</td>\n",
       "      <td>0.646</td>\n",
       "      <td>0.158</td>\n",
       "      <td>0.692</td>\n",
       "    </tr>\n",
       "    <tr>\n",
       "      <th>9</th>\n",
       "      <td>alexnet_sar_wd0.04</td>\n",
       "      <td>0.102</td>\n",
       "      <td>0.628</td>\n",
       "      <td>0.117</td>\n",
       "      <td>0.646</td>\n",
       "    </tr>\n",
       "  </tbody>\n",
       "</table>\n",
       "</div>"
      ],
      "text/plain": [
       "             arch_names  test_acc_rand  test_acc_true  train_acc_rand  \\\n",
       "0               alexnet          0.122          0.777           0.999   \n",
       "1            alexnet_sn          0.114          0.635           0.383   \n",
       "2       alexnet_sar_wd0          0.100          0.797           1.000   \n",
       "3   alexnet_sar_wd4e-05          0.087          0.788           0.999   \n",
       "4  alexnet_sar_wd0.0004          0.100          0.793           0.991   \n",
       "5   alexnet_sar_wd0.004          0.099          0.733           0.632   \n",
       "6  alexnet_sar_wd0.0075          0.098          0.715           0.450   \n",
       "7    alexnet_sar_wd0.01          0.106          0.703           0.370   \n",
       "8   alexnet_sar_wd0.025          0.114          0.646           0.158   \n",
       "9    alexnet_sar_wd0.04          0.102          0.628           0.117   \n",
       "\n",
       "   train_acc_true  \n",
       "0           0.998  \n",
       "1           0.671  \n",
       "2           1.000  \n",
       "3           1.000  \n",
       "4           0.996  \n",
       "5           0.860  \n",
       "6           0.791  \n",
       "7           0.757  \n",
       "8           0.692  \n",
       "9           0.646  "
      ]
     },
     "metadata": {},
     "output_type": "display_data"
    },
    {
     "data": {
      "image/png": "[encoded data removed]",
      "text/plain": [
       "<matplotlib.figure.Figure at 0x7f0811316ed0>"
      ]
     },
     "metadata": {},
     "output_type": "display_data"
    }
   ],
   "source": [
    "visualize_results(out_dict)"
   ]
  },
  {
   "cell_type": "code",
   "execution_count": null,
   "metadata": {},
   "outputs": [
    {
     "name": "stdout",
     "output_type": "stream",
     "text": [
      "INFO:tensorflow:Restoring parameters from save_weights_n50000_inception/inception_rand/checkpoints/epoch183\n",
      "INFO:tensorflow:Restoring parameters from save_weights_n50000_inception/inception_rand/checkpoints/epoch183\n",
      "INFO:tensorflow:Restoring parameters from save_weights_n50000_inception_tightsn/inception_rand_sn/checkpoints/epoch499\n",
      "INFO:tensorflow:Restoring parameters from save_weights_n50000_inception_tightsn/inception_rand_sn/checkpoints/epoch499\n",
      "INFO:tensorflow:Restoring parameters from save_weights_n50000_inception_tightsn/inception_rand_sar_wd0/checkpoints/epoch499\n",
      "INFO:tensorflow:Restoring parameters from save_weights_n50000_inception_tightsn/inception_rand_sar_wd0/checkpoints/epoch499\n",
      "INFO:tensorflow:Restoring parameters from save_weights_n50000_inception_tightsn/inception_rand_sar_wd4e-05/checkpoints/epoch499\n",
      "INFO:tensorflow:Restoring parameters from save_weights_n50000_inception_tightsn/inception_rand_sar_wd4e-05/checkpoints/epoch499\n",
      "INFO:tensorflow:Restoring parameters from save_weights_n50000_inception_tightsn/inception_rand_sar_wd0.0004/checkpoints/epoch499\n",
      "INFO:tensorflow:Restoring parameters from save_weights_n50000_inception_tightsn/inception_rand_sar_wd0.0004/checkpoints/epoch499\n",
      "INFO:tensorflow:Restoring parameters from save_weights_n50000_inception_tightsn/inception_rand_sar_wd0.004/checkpoints/epoch499\n",
      "INFO:tensorflow:Restoring parameters from save_weights_n50000_inception_tightsn/inception_rand_sar_wd0.004/checkpoints/epoch499\n",
      "INFO:tensorflow:Restoring parameters from save_weights_n50000_inception_tightsn/inception_rand_sar_wd0.04/checkpoints/epoch499\n",
      "INFO:tensorflow:Restoring parameters from save_weights_n50000_inception_tightsn/inception_rand_sar_wd0.04/checkpoints/epoch499\n",
      "INFO:tensorflow:Restoring parameters from save_weights_n50000_inception/inception_true/checkpoints/epoch49\n",
      "INFO:tensorflow:Restoring parameters from save_weights_n50000_inception/inception_true/checkpoints/epoch49\n",
      "INFO:tensorflow:Restoring parameters from save_weights_n50000_inception_tightsn/inception_true_sn/checkpoints/epoch499\n",
      "INFO:tensorflow:Restoring parameters from save_weights_n50000_inception_tightsn/inception_true_sn/checkpoints/epoch499\n",
      "INFO:tensorflow:Restoring parameters from save_weights_n50000_inception_tightsn/inception_true_sar_wd0/checkpoints/epoch120\n",
      "INFO:tensorflow:Restoring parameters from save_weights_n50000_inception_tightsn/inception_true_sar_wd0/checkpoints/epoch120\n",
      "INFO:tensorflow:Restoring parameters from save_weights_n50000_inception_tightsn/inception_true_sar_wd4e-05/checkpoints/epoch123\n",
      "INFO:tensorflow:Restoring parameters from save_weights_n50000_inception_tightsn/inception_true_sar_wd4e-05/checkpoints/epoch123\n",
      "INFO:tensorflow:Restoring parameters from save_weights_n50000_inception_tightsn/inception_true_sar_wd0.0004/checkpoints/epoch144\n",
      "INFO:tensorflow:Restoring parameters from save_weights_n50000_inception_tightsn/inception_true_sar_wd0.0004/checkpoints/epoch144\n",
      "INFO:tensorflow:Restoring parameters from save_weights_n50000_inception_tightsn/inception_true_sar_wd0.004/checkpoints/epoch289\n",
      "INFO:tensorflow:Restoring parameters from save_weights_n50000_inception_tightsn/inception_true_sar_wd0.004/checkpoints/epoch289\n",
      "INFO:tensorflow:Restoring parameters from save_weights_n50000_inception_tightsn/inception_true_sar_wd0.04/checkpoints/epoch499\n",
      "INFO:tensorflow:Restoring parameters from save_weights_n50000_inception_tightsn/inception_true_sar_wd0.04/checkpoints/epoch499\n"
     ]
    }
   ],
   "source": [
    "arch_name = 'inception'\n",
    "\n",
    "models = {\n",
    "    'default': inception.inception,\n",
    "    'sn': inception_tightsn.inception_sn,\n",
    "    'sar': inception_tightsn.inception_sar\n",
    "}\n",
    "\n",
    "out_dict = get_all_accs(data_small, arch_name, models)"
   ]
  },
  {
   "cell_type": "code",
   "execution_count": null,
   "metadata": {
    "collapsed": true
   },
   "outputs": [],
   "source": [
    "visualize_results(out_dict)"
   ]
  },
  {
   "cell_type": "code",
   "execution_count": null,
   "metadata": {
    "collapsed": true
   },
   "outputs": [],
   "source": [
    "arch_name = 'vgg'\n",
    "\n",
    "models = {\n",
    "    'default': vgg.vgg,\n",
    "    'sn': vgg_tightsn.vgg_sn,\n",
    "    'sar': vgg_tightsn.vgg_sar\n",
    "}\n",
    "\n",
    "out_dict = get_all_accs(data_small, arch_name, models)"
   ]
  },
  {
   "cell_type": "code",
   "execution_count": null,
   "metadata": {
    "collapsed": true
   },
   "outputs": [],
   "source": [
    "visualize_results(out_dict)"
   ]
  }
 ],
 "metadata": {
  "kernelspec": {
   "display_name": "Python 2",
   "language": "python",
   "name": "python2"
  },
  "language_info": {
   "codemirror_mode": {
    "name": "ipython",
    "version": 2
   },
   "file_extension": ".py",
   "mimetype": "text/x-python",
   "name": "python",
   "nbconvert_exporter": "python",
   "pygments_lexer": "ipython2",
   "version": "2.7.13"
  }
 },
 "nbformat": 4,
 "nbformat_minor": 2
}
