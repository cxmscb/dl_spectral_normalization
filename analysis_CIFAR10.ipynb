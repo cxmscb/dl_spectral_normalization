{
 "cells": [
  {
   "cell_type": "markdown",
   "metadata": {},
   "source": [
    "Compared to MNIST dataset, CIFAR10 images have 3 channels rather than 1. Also, we use a momentum optimizer with an initial learning rate of 0.01 (decaying by a factor of 0.95 every 390 epochs) and momentum of 0.9, just like in the [ICLR 2017 paper](https://arxiv.org/pdf/1611.03530.pdf). Also, batches sizes are 128 rather than 256.\n",
    "\n",
    "The CIFAR10 images are also preprocessed via whitening, as described in the above paper."
   ]
  },
  {
   "cell_type": "code",
   "execution_count": 1,
   "metadata": {
    "collapsed": true
   },
   "outputs": [],
   "source": [
    "import os\n",
    "os.environ[\"CUDA_VISIBLE_DEVICES\"]=\"1\""
   ]
  },
  {
   "cell_type": "code",
   "execution_count": 2,
   "metadata": {
    "collapsed": true
   },
   "outputs": [],
   "source": [
    "%load_ext autoreload\n",
    "%autoreload 2\n",
    "\n",
    "import pickle\n",
    "import time\n",
    "import tensorflow as tf\n",
    "import numpy as np\n",
    "\n",
    "from analysis import *\n",
    "\n",
    "%matplotlib inline"
   ]
  },
  {
   "cell_type": "code",
   "execution_count": 3,
   "metadata": {
    "collapsed": true
   },
   "outputs": [],
   "source": [
    "from get_cifar10 import get_cifar10_dataset\n",
    "n_samps = 50000\n",
    "\n",
    "# each value: Xtr, Ytr, Xtt, Ytt\n",
    "data = {\n",
    "    'true': get_cifar10_dataset(0, n_samps=n_samps),\n",
    "    'rand': get_cifar10_dataset(100, n_samps=n_samps)\n",
    "}\n",
    "C2 = np.mean([np.sqrt(np.sum(np.square(i))) for i in data['true'][0]])\n",
    "gamma = 0.04*C2\n",
    "eps_wrm = 1./(2*gamma)\n",
    "\n",
    "batch_size = 128\n",
    "num_channels = 3\n",
    "gpu_prop = 0.4"
   ]
  },
  {
   "cell_type": "markdown",
   "metadata": {},
   "source": [
    "### Inception"
   ]
  },
  {
   "cell_type": "code",
   "execution_count": null,
   "metadata": {},
   "outputs": [
    {
     "name": "stdout",
     "output_type": "stream",
     "text": [
      "INFO:tensorflow:Restoring parameters from save_weights_final/cifar10/inception/inception_wrm_true/checkpoints/epoch36\n"
     ]
    }
   ],
   "source": [
    "from spectral_adversarial_regularization.models import inception as model\n",
    "\n",
    "# Estimate eps for the other samples using the perturbation achieved for each test sample\n",
    "save_dir = os.path.join('save_weights', 'cifar10', 'inception', 'inception_wrm_true')\n",
    "arch = model.inception\n",
    "\n",
    "Xtr = data['true'][2]\n",
    "Xtr_adv_wrm = ad.build_graph_and_gen_adv_examples(Xtr, arch, save_dir, beta=1, num_channels=3,\n",
    "                                                  load_epoch=200, method=ad.wrm, eps=eps_wrm)\n",
    "    \n",
    "eps = np.sqrt(np.mean([np.sum(np.square(i)) for i in Xtr_adv_wrm-Xtr])) \n",
    "print(eps)"
   ]
  },
  {
   "cell_type": "code",
   "execution_count": 24,
   "metadata": {
    "scrolled": true
   },
   "outputs": [
    {
     "name": "stdout",
     "output_type": "stream",
     "text": [
      "INFO:tensorflow:Restoring parameters from save_weights_final/cifar10/inception/inception_erm_true/checkpoints/epoch87\n",
      "     conv1/weights:0 with spectral norm 7.7572\n",
      "downsamp4/conv_ch3/weights:0 with spectral norm 3.9415\n",
      "downsamp9/conv_ch3/weights:0 with spectral norm 3.1305\n",
      "        fc/weights:0 with spectral norm 4.4513\n",
      "incept10/conv_ch1/weights:0 with spectral norm 2.4704\n",
      "incept10/conv_ch3/weights:0 with spectral norm 6.5530\n",
      "incept11/conv_ch1/weights:0 with spectral norm 4.0101\n",
      "incept11/conv_ch3/weights:0 with spectral norm 11.7855\n",
      "incept2/conv_ch1/weights:0 with spectral norm 2.3799\n",
      "incept2/conv_ch3/weights:0 with spectral norm 5.3215\n",
      "incept3/conv_ch1/weights:0 with spectral norm 2.3410\n",
      "incept3/conv_ch3/weights:0 with spectral norm 6.5379\n",
      "incept5/conv_ch1/weights:0 with spectral norm 2.7479\n",
      "incept5/conv_ch3/weights:0 with spectral norm 5.1679\n",
      "incept6/conv_ch1/weights:0 with spectral norm 2.5563\n",
      "incept6/conv_ch3/weights:0 with spectral norm 5.2904\n",
      "incept7/conv_ch1/weights:0 with spectral norm 2.3436\n",
      "incept7/conv_ch3/weights:0 with spectral norm 5.7773\n",
      "incept8/conv_ch1/weights:0 with spectral norm 2.8126\n",
      "incept8/conv_ch3/weights:0 with spectral norm 9.4334\n",
      "INFO:tensorflow:Restoring parameters from save_weights_final/cifar10/inception/inception_erm_true/checkpoints/epoch87\n",
      "Acc on training examples: 1.0000\n",
      "INFO:tensorflow:Restoring parameters from save_weights_final/cifar10/inception/inception_erm_true/checkpoints/epoch87\n",
      "Acc on examples: 0.8543\n",
      "INFO:tensorflow:Restoring parameters from save_weights_final/cifar10/inception/inception_erm_true/checkpoints/epoch87\n",
      "Acc on adv examples: 0.8543 (135.434 s elapsed)\n",
      "INFO:tensorflow:Restoring parameters from save_weights_final/cifar10/inception/inception_erm_true/checkpoints/epoch87\n",
      "Acc on adv examples: 0.5245 (136.891 s elapsed)\n",
      "INFO:tensorflow:Restoring parameters from save_weights_final/cifar10/inception/inception_erm_true/checkpoints/epoch87\n",
      "Acc on adv examples: 0.2940 (139.226 s elapsed)\n",
      "INFO:tensorflow:Restoring parameters from save_weights_final/cifar10/inception/inception_erm_true/checkpoints/epoch87\n",
      "Acc on adv examples: 0.2073 (136.418 s elapsed)\n",
      "INFO:tensorflow:Restoring parameters from save_weights_final/cifar10/inception/inception_erm_true/checkpoints/epoch87\n",
      "Acc on adv examples: 0.1736 (135.632 s elapsed)\n",
      "INFO:tensorflow:Restoring parameters from save_weights_final/cifar10/inception/inception_erm_true/checkpoints/epoch87\n",
      "Acc on adv examples: 0.1583 (137.235 s elapsed)\n",
      "INFO:tensorflow:Restoring parameters from save_weights_final/cifar10/inception/inception_pgm_true/checkpoints/epoch70\n",
      "     conv1/weights:0 with spectral norm 6.9572\n",
      "downsamp4/conv_ch3/weights:0 with spectral norm 4.9613\n",
      "downsamp9/conv_ch3/weights:0 with spectral norm 4.3731\n",
      "        fc/weights:0 with spectral norm 6.6790\n",
      "incept10/conv_ch1/weights:0 with spectral norm 2.9159\n",
      "incept10/conv_ch3/weights:0 with spectral norm 8.2880\n",
      "incept11/conv_ch1/weights:0 with spectral norm 4.5386\n",
      "incept11/conv_ch3/weights:0 with spectral norm 14.4907\n",
      "incept2/conv_ch1/weights:0 with spectral norm 1.9623\n",
      "incept2/conv_ch3/weights:0 with spectral norm 4.9647\n",
      "incept3/conv_ch1/weights:0 with spectral norm 1.9847\n",
      "incept3/conv_ch3/weights:0 with spectral norm 4.4232\n",
      "incept5/conv_ch1/weights:0 with spectral norm 2.4971\n",
      "incept5/conv_ch3/weights:0 with spectral norm 5.0042\n",
      "incept6/conv_ch1/weights:0 with spectral norm 2.3251\n",
      "incept6/conv_ch3/weights:0 with spectral norm 5.5600\n",
      "incept7/conv_ch1/weights:0 with spectral norm 2.2770\n",
      "incept7/conv_ch3/weights:0 with spectral norm 5.7712\n",
      "incept8/conv_ch1/weights:0 with spectral norm 2.4001\n",
      "incept8/conv_ch3/weights:0 with spectral norm 7.8727\n",
      "INFO:tensorflow:Restoring parameters from save_weights_final/cifar10/inception/inception_pgm_true/checkpoints/epoch70\n",
      "Acc on training examples: 0.9992\n",
      "INFO:tensorflow:Restoring parameters from save_weights_final/cifar10/inception/inception_pgm_true/checkpoints/epoch70\n",
      "Acc on examples: 0.7751\n",
      "INFO:tensorflow:Restoring parameters from save_weights_final/cifar10/inception/inception_pgm_true/checkpoints/epoch70\n",
      "Acc on adv examples: 0.7751 (137.855 s elapsed)\n",
      "INFO:tensorflow:Restoring parameters from save_weights_final/cifar10/inception/inception_pgm_true/checkpoints/epoch70\n",
      "Acc on adv examples: 0.7502 (138.541 s elapsed)\n",
      "INFO:tensorflow:Restoring parameters from save_weights_final/cifar10/inception/inception_pgm_true/checkpoints/epoch70\n",
      "Acc on adv examples: 0.6940 (137.644 s elapsed)\n",
      "INFO:tensorflow:Restoring parameters from save_weights_final/cifar10/inception/inception_pgm_true/checkpoints/epoch70\n",
      "Acc on adv examples: 0.6194 (136.189 s elapsed)\n",
      "INFO:tensorflow:Restoring parameters from save_weights_final/cifar10/inception/inception_pgm_true/checkpoints/epoch70\n",
      "Acc on adv examples: 0.5391 (137.552 s elapsed)\n",
      "INFO:tensorflow:Restoring parameters from save_weights_final/cifar10/inception/inception_pgm_true/checkpoints/epoch70\n",
      "Acc on adv examples: 0.4593 (138.441 s elapsed)\n",
      "INFO:tensorflow:Restoring parameters from save_weights_final/cifar10/inception/inception_wrm_true/checkpoints/epoch48\n",
      "     conv1/weights:0 with spectral norm 5.5248\n",
      "downsamp4/conv_ch3/weights:0 with spectral norm 3.6790\n",
      "downsamp9/conv_ch3/weights:0 with spectral norm 3.1056\n",
      "        fc/weights:0 with spectral norm 4.1415\n",
      "incept10/conv_ch1/weights:0 with spectral norm 2.1524\n",
      "incept10/conv_ch3/weights:0 with spectral norm 4.8481\n",
      "incept11/conv_ch1/weights:0 with spectral norm 3.2790\n",
      "incept11/conv_ch3/weights:0 with spectral norm 8.3668\n",
      "incept2/conv_ch1/weights:0 with spectral norm 1.9184\n",
      "incept2/conv_ch3/weights:0 with spectral norm 3.8843\n",
      "incept3/conv_ch1/weights:0 with spectral norm 1.8501\n",
      "incept3/conv_ch3/weights:0 with spectral norm 4.0704\n",
      "incept5/conv_ch1/weights:0 with spectral norm 2.1359\n",
      "incept5/conv_ch3/weights:0 with spectral norm 4.1737\n",
      "incept6/conv_ch1/weights:0 with spectral norm 2.0359\n",
      "incept6/conv_ch3/weights:0 with spectral norm 3.8503\n",
      "incept7/conv_ch1/weights:0 with spectral norm 1.9943\n",
      "incept7/conv_ch3/weights:0 with spectral norm 4.0757\n",
      "incept8/conv_ch1/weights:0 with spectral norm 2.0346\n",
      "incept8/conv_ch3/weights:0 with spectral norm 5.1339\n",
      "INFO:tensorflow:Restoring parameters from save_weights_final/cifar10/inception/inception_wrm_true/checkpoints/epoch48\n",
      "Acc on training examples: 0.9994\n",
      "INFO:tensorflow:Restoring parameters from save_weights_final/cifar10/inception/inception_wrm_true/checkpoints/epoch48\n",
      "Acc on examples: 0.8023\n",
      "INFO:tensorflow:Restoring parameters from save_weights_final/cifar10/inception/inception_wrm_true/checkpoints/epoch48\n",
      "Acc on adv examples: 0.8023 (137.579 s elapsed)\n",
      "INFO:tensorflow:Restoring parameters from save_weights_final/cifar10/inception/inception_wrm_true/checkpoints/epoch48\n",
      "Acc on adv examples: 0.7701 (139.595 s elapsed)\n",
      "INFO:tensorflow:Restoring parameters from save_weights_final/cifar10/inception/inception_wrm_true/checkpoints/epoch48\n",
      "Acc on adv examples: 0.7043 (136.906 s elapsed)\n",
      "INFO:tensorflow:Restoring parameters from save_weights_final/cifar10/inception/inception_wrm_true/checkpoints/epoch48\n",
      "Acc on adv examples: 0.6129 (136.548 s elapsed)\n",
      "INFO:tensorflow:Restoring parameters from save_weights_final/cifar10/inception/inception_wrm_true/checkpoints/epoch48\n",
      "Acc on adv examples: 0.5147 (137.176 s elapsed)\n",
      "INFO:tensorflow:Restoring parameters from save_weights_final/cifar10/inception/inception_wrm_true/checkpoints/epoch48\n",
      "Acc on adv examples: 0.4214 (136.823 s elapsed)\n"
     ]
    },
    {
     "data": {
      "image/png": "[encoded data removed]",
      "text/plain": [
       "<matplotlib.figure.Figure at 0x7f4ff3469e90>"
      ]
     },
     "metadata": {},
     "output_type": "display_data"
    }
   ],
   "source": [
    "# Evaluate robustness of networks\n",
    "\n",
    "from spectral_adversarial_regularization.models import inception as model\n",
    "\n",
    "labeltype = 'true'\n",
    "arch = model.inception\n",
    "archname = 'inception'\n",
    "methods = ['erm', 'pgm', 'wrm']\n",
    "eps_list = np.linspace(0, 0.0625, 6)*C2\n",
    "\n",
    "adv_results = get_curves_for_arch(data, labeltype, arch, methods, eps_list, archname)\n",
    "plot_acc_curves(adv_results, eps_list/C2)"
   ]
  },
  {
   "cell_type": "markdown",
   "metadata": {},
   "source": [
    "### Alexnet"
   ]
  },
  {
   "cell_type": "code",
   "execution_count": null,
   "metadata": {
    "collapsed": true
   },
   "outputs": [],
   "source": [
    "# Evaluate robustness of networks\n",
    "\n",
    "from spectral_adversarial_regularization.models import alexnet as model\n",
    "\n",
    "labeltype = 'true'\n",
    "arch = model.alexnet\n",
    "archname = 'alexnet'\n",
    "methods = ['erm', 'pgm', 'wrm']\n",
    "eps_list = np.linspace(0, 0.0625, 6)*C2\n",
    "\n",
    "adv_results = get_curves_for_arch(data, labeltype, arch, methods, eps_list, archname)\n",
    "plot_acc_curves(adv_results, eps_list/C2)"
   ]
  }
 ],
 "metadata": {
  "kernelspec": {
   "display_name": "Python 2",
   "language": "python",
   "name": "python2"
  },
  "language_info": {
   "codemirror_mode": {
    "name": "ipython",
    "version": 2
   },
   "file_extension": ".py",
   "mimetype": "text/x-python",
   "name": "python",
   "nbconvert_exporter": "python",
   "pygments_lexer": "ipython2",
   "version": "2.7.13"
  }
 },
 "nbformat": 4,
 "nbformat_minor": 2
}
