{
 "cells": [
  {
   "cell_type": "markdown",
   "metadata": {},
   "source": [
    "# Visualization of margins\n",
    "\n",
    "as discussed in Bartlett's [paper](https://arxiv.org/pdf/1706.08498.pdf) (see Figure 2)"
   ]
  },
  {
   "cell_type": "code",
   "execution_count": 1,
   "metadata": {
    "collapsed": true
   },
   "outputs": [],
   "source": [
    "import os\n",
    "os.environ[\"CUDA_VISIBLE_DEVICES\"]=\"0\""
   ]
  },
  {
   "cell_type": "code",
   "execution_count": 2,
   "metadata": {
    "collapsed": true
   },
   "outputs": [],
   "source": [
    "%load_ext autoreload\n",
    "%autoreload 2\n",
    "\n",
    "import time\n",
    "import os\n",
    "import tensorflow as tf\n",
    "import numpy as np\n",
    "import matplotlib.pyplot as plt\n",
    "\n",
    "from spectral_adversarial_regularization import dl_utils\n",
    "from spectral_adversarial_regularization import adversarial as ad\n",
    "from spectral_adversarial_regularization.models import *\n",
    "\n",
    "%matplotlib inline"
   ]
  },
  {
   "cell_type": "code",
   "execution_count": 4,
   "metadata": {},
   "outputs": [],
   "source": [
    "from get_cifar10 import get_cifar10_dataset\n",
    "\n",
    "# Load dataset\n",
    "n_samps = 50000\n",
    "num_classes = 10\n",
    "\n",
    "# each value: Xtr, Ytr, Xtt, Ytt\n",
    "data = {\n",
    "    'true': get_cifar10_dataset(0, n_samps=n_samps),\n",
    "    'rand': get_cifar10_dataset(100, n_samps=n_samps)\n",
    "}\n",
    "\n",
    "data = {\n",
    "    'true': (data['true'][0], data['true'][1], data['true'][2][500:], data['true'][3][500:]),\n",
    "    'rand': (data['rand'][0], data['rand'][1], data['rand'][2][500:], data['rand'][3][500:])\n",
    "}\n",
    "\n",
    "\n",
    "data_small = {\n",
    "    'true': (data['true'][0][:1000], data['true'][1][:1000], data['true'][2][:1000], data['true'][3][:1000]),\n",
    "    'rand': (data['rand'][0][:1000], data['rand'][1][:1000], data['rand'][2][:1000], data['rand'][3][:1000])\n",
    "}"
   ]
  },
  {
   "cell_type": "code",
   "execution_count": 5,
   "metadata": {
    "collapsed": true
   },
   "outputs": [],
   "source": [
    "def sort_func(fname):\n",
    "    if 'wd' not in fname:\n",
    "        return (-1, fname)\n",
    "    return (float(fname.split('wd')[1]), fname)\n",
    "\n",
    "def get_all_margins(data, arch_name, models, dataset):\n",
    "    assert dataset == 'train' or dataset == 'test'\n",
    "    \n",
    "    results = {'true':{}, 'rand':{}}\n",
    "    main_dir = 'save_weights_n50000_%s_tightsn'%(arch_name)\n",
    "    for i in results.keys():\n",
    "            \n",
    "        if dataset == 'train':\n",
    "            X, Y = data[i][0], data[i][1]\n",
    "        else:\n",
    "            X, Y = data[i][2], data[i][3]\n",
    "  \n",
    "        # Maybe ignore default model since it's not sn'd (we only sn last layer)\n",
    "#         save_dir = 'save_weights_n50000_%s/%s_%s/'%(arch_name, arch_name, i)\n",
    "#         results[i][arch_name] = dl_utils.get_margins(X, Y, save_dir, arch=models['default'])\n",
    "        \n",
    "        for f in os.listdir(main_dir):\n",
    "            if i in f:\n",
    "                name = f.replace('_rand', '').replace('_true', '')\n",
    "                save_dir = os.path.join(main_dir, f)\n",
    "                results[i][name] = dl_utils.get_margins(X, Y, save_dir, models[f.split('_')[2]])\n",
    "            \n",
    "    return results\n",
    "\n",
    "def plot_margins(results, plots_per_row=4):\n",
    "    \n",
    "    for i, label in enumerate(sorted(results['true'], key=sort_func)): \n",
    "        if i%plots_per_row == 0:\n",
    "            plt.figure(figsize=(16, 4))\n",
    "\n",
    "        plt.subplot(1, plots_per_row, i%plots_per_row+1)\n",
    "        dl_utils.plot_stacked_hist(results['rand'][label], results['true'][label], ['rand', 'true'])\n",
    "        plt.title(label)\n",
    "        plt.xlabel('margin')\n",
    "        plt.grid()"
   ]
  },
  {
   "cell_type": "code",
   "execution_count": 5,
   "metadata": {
    "scrolled": true
   },
   "outputs": [
    {
     "name": "stdout",
     "output_type": "stream",
     "text": [
      "INFO:tensorflow:Restoring parameters from save_weights_n50000_alexnet/alexnet_rand/checkpoints/epoch80\n",
      "Sanity check: accuracy is 0.12200.\n",
      "INFO:tensorflow:Restoring parameters from save_weights_n50000_alexnet_tightsn/alexnet_rand_sn/checkpoints/epoch499\n",
      "Sanity check: accuracy is 0.09400.\n",
      "INFO:tensorflow:Restoring parameters from save_weights_n50000_alexnet_tightsn/alexnet_rand_sar_wd0/checkpoints/epoch234\n",
      "Sanity check: accuracy is 0.10300.\n",
      "INFO:tensorflow:Restoring parameters from save_weights_n50000_alexnet_tightsn/alexnet_rand_sar_wd0.04/checkpoints/epoch499\n",
      "Sanity check: accuracy is 0.11100.\n",
      "INFO:tensorflow:Restoring parameters from save_weights_n50000_alexnet_tightsn/alexnet_rand_sar_wd4e-05/checkpoints/epoch249\n",
      "Sanity check: accuracy is 0.08800.\n",
      "INFO:tensorflow:Restoring parameters from save_weights_n50000_alexnet_tightsn/alexnet_rand_sar_wd0.0004/checkpoints/epoch499\n",
      "Sanity check: accuracy is 0.09900.\n",
      "INFO:tensorflow:Restoring parameters from save_weights_n50000_alexnet_tightsn/alexnet_rand_sar_wd0.004/checkpoints/epoch499\n",
      "Sanity check: accuracy is 0.09300.\n",
      "INFO:tensorflow:Restoring parameters from save_weights_n50000_alexnet_tightsn/alexnet_rand_sar_wd0.0075/checkpoints/epoch499\n",
      "Sanity check: accuracy is 0.09100.\n",
      "INFO:tensorflow:Restoring parameters from save_weights_n50000_alexnet_tightsn/alexnet_rand_sar_wd0.01/checkpoints/epoch499\n",
      "Sanity check: accuracy is 0.09400.\n",
      "INFO:tensorflow:Restoring parameters from save_weights_n50000_alexnet_tightsn/alexnet_rand_sar_wd0.025/checkpoints/epoch499\n",
      "Sanity check: accuracy is 0.09500.\n",
      "INFO:tensorflow:Restoring parameters from save_weights_n50000_alexnet/alexnet_true/checkpoints/epoch34\n",
      "Sanity check: accuracy is 0.78500.\n",
      "INFO:tensorflow:Restoring parameters from save_weights_n50000_alexnet_tightsn/alexnet_true_sn/checkpoints/epoch499\n",
      "Sanity check: accuracy is 0.54100.\n",
      "INFO:tensorflow:Restoring parameters from save_weights_n50000_alexnet_tightsn/alexnet_true_sar_wd0/checkpoints/epoch134\n",
      "Sanity check: accuracy is 0.78700.\n",
      "INFO:tensorflow:Restoring parameters from save_weights_n50000_alexnet_tightsn/alexnet_true_sar_wd0.04/checkpoints/epoch499\n",
      "Sanity check: accuracy is 0.60800.\n",
      "INFO:tensorflow:Restoring parameters from save_weights_n50000_alexnet_tightsn/alexnet_true_sar_wd4e-05/checkpoints/epoch144\n",
      "Sanity check: accuracy is 0.77900.\n",
      "INFO:tensorflow:Restoring parameters from save_weights_n50000_alexnet_tightsn/alexnet_true_sar_wd0.0004/checkpoints/epoch356\n",
      "Sanity check: accuracy is 0.77900.\n",
      "INFO:tensorflow:Restoring parameters from save_weights_n50000_alexnet_tightsn/alexnet_true_sar_wd0.004/checkpoints/epoch499\n",
      "Sanity check: accuracy is 0.73000.\n",
      "INFO:tensorflow:Restoring parameters from save_weights_n50000_alexnet_tightsn/alexnet_true_sar_wd0.0075/checkpoints/epoch499\n",
      "Sanity check: accuracy is 0.70800.\n",
      "INFO:tensorflow:Restoring parameters from save_weights_n50000_alexnet_tightsn/alexnet_true_sar_wd0.01/checkpoints/epoch499\n",
      "Sanity check: accuracy is 0.70000.\n",
      "INFO:tensorflow:Restoring parameters from save_weights_n50000_alexnet_tightsn/alexnet_true_sar_wd0.025/checkpoints/epoch499\n",
      "Sanity check: accuracy is 0.63000.\n"
     ]
    }
   ],
   "source": [
    "arch_name = 'alexnet'\n",
    "\n",
    "models = {\n",
    "    'default': alexnet.alexnet,\n",
    "    'sn': alexnet_tightsn.alexnet_sn,\n",
    "    'sar': alexnet_tightsn.alexnet_sar\n",
    "}\n",
    "\n",
    "results = get_all_margins(data_small, arch_name, models, 'test')"
   ]
  },
  {
   "cell_type": "code",
   "execution_count": 8,
   "metadata": {},
   "outputs": [
    {
     "data": {
      "image/png": "[encoded data removed]",
      "text/plain": [
       "<matplotlib.figure.Figure at 0x7f76c02b2210>"
      ]
     },
     "metadata": {},
     "output_type": "display_data"
    },
    {
     "data": {
      "image/png": "[encoded data removed]",
      "text/plain": [
       "<matplotlib.figure.Figure at 0x7f76c0041110>"
      ]
     },
     "metadata": {},
     "output_type": "display_data"
    },
    {
     "data": {
      "image/png": "[encoded data removed]",
      "text/plain": [
       "<matplotlib.figure.Figure at 0x7f7703b83090>"
      ]
     },
     "metadata": {},
     "output_type": "display_data"
    }
   ],
   "source": [
    "plot_margins(results)"
   ]
  },
  {
   "cell_type": "code",
   "execution_count": 7,
   "metadata": {
    "scrolled": true
   },
   "outputs": [
    {
     "name": "stdout",
     "output_type": "stream",
     "text": [
      "INFO:tensorflow:Restoring parameters from save_weights_n50000_inception_tightsn/inception_rand_sn/checkpoints/epoch499\n",
      "Sanity check: accuracy is 0.09100.\n",
      "INFO:tensorflow:Restoring parameters from save_weights_n50000_inception_tightsn/inception_rand_sar_wd0/checkpoints/epoch499\n",
      "Sanity check: accuracy is 0.09100.\n",
      "INFO:tensorflow:Restoring parameters from save_weights_n50000_inception_tightsn/inception_rand_sar_wd4e-05/checkpoints/epoch499\n",
      "Sanity check: accuracy is 0.09100.\n",
      "INFO:tensorflow:Restoring parameters from save_weights_n50000_inception_tightsn/inception_rand_sar_wd0.0004/checkpoints/epoch499\n",
      "Sanity check: accuracy is 0.09100.\n",
      "INFO:tensorflow:Restoring parameters from save_weights_n50000_inception_tightsn/inception_rand_sar_wd0.004/checkpoints/epoch499\n",
      "Sanity check: accuracy is 0.09100.\n",
      "INFO:tensorflow:Restoring parameters from save_weights_n50000_inception_tightsn/inception_rand_sar_wd0.04/checkpoints/epoch499\n",
      "Sanity check: accuracy is 0.09100.\n",
      "INFO:tensorflow:Restoring parameters from save_weights_n50000_inception_tightsn/inception_true_sn/checkpoints/epoch499\n",
      "Sanity check: accuracy is 0.80900.\n",
      "INFO:tensorflow:Restoring parameters from save_weights_n50000_inception_tightsn/inception_true_sar_wd0/checkpoints/epoch120\n",
      "Sanity check: accuracy is 0.83900.\n",
      "INFO:tensorflow:Restoring parameters from save_weights_n50000_inception_tightsn/inception_true_sar_wd4e-05/checkpoints/epoch123\n",
      "Sanity check: accuracy is 0.84200.\n",
      "INFO:tensorflow:Restoring parameters from save_weights_n50000_inception_tightsn/inception_true_sar_wd0.0004/checkpoints/epoch144\n",
      "Sanity check: accuracy is 0.83000.\n",
      "INFO:tensorflow:Restoring parameters from save_weights_n50000_inception_tightsn/inception_true_sar_wd0.004/checkpoints/epoch289\n",
      "Sanity check: accuracy is 0.83300.\n",
      "INFO:tensorflow:Restoring parameters from save_weights_n50000_inception_tightsn/inception_true_sar_wd0.04/checkpoints/epoch499\n",
      "Sanity check: accuracy is 0.80700.\n",
      "INFO:tensorflow:Restoring parameters from save_weights_n50000_inception_tightsn/inception_true_sar_wd0.4/checkpoints/epoch499\n",
      "Sanity check: accuracy is 0.76300.\n",
      "INFO:tensorflow:Restoring parameters from save_weights_n50000_inception_tightsn/inception_true_sar_wd4.0/checkpoints/epoch499\n",
      "Sanity check: accuracy is 0.11100.\n",
      "INFO:tensorflow:Restoring parameters from save_weights_n50000_inception_tightsn/inception_true_sar_wd0.075/checkpoints/epoch499\n",
      "Sanity check: accuracy is 0.81000.\n",
      "INFO:tensorflow:Restoring parameters from save_weights_n50000_inception_tightsn/inception_true_sar_wd0.1/checkpoints/epoch499\n",
      "Sanity check: accuracy is 0.81200.\n",
      "INFO:tensorflow:Restoring parameters from save_weights_n50000_inception_tightsn/inception_true_sar_wd0.25/checkpoints/epoch499\n",
      "Sanity check: accuracy is 0.79900.\n"
     ]
    }
   ],
   "source": [
    "arch_name = 'inception'\n",
    "\n",
    "models = {\n",
    "    'default': inception.inception,\n",
    "    'sn': inception_tightsn.inception_sn,\n",
    "    'sar': inception_tightsn.inception_sar\n",
    "}\n",
    "\n",
    "results = get_all_margins(data_small, arch_name, models, 'test')"
   ]
  },
  {
   "cell_type": "code",
   "execution_count": null,
   "metadata": {
    "collapsed": true
   },
   "outputs": [],
   "source": [
    "arch_name = 'vgg'\n",
    "\n",
    "models = {\n",
    "    'default': vgg.vgg,\n",
    "    'sn': vgg_tightsn.vgg_sn,\n",
    "    'sar': vgg_tightsn.vgg_sar\n",
    "}\n",
    "\n",
    "results = get_all_margins(data_small, arch_name, models, 'test')"
   ]
  },
  {
   "cell_type": "code",
   "execution_count": null,
   "metadata": {
    "collapsed": true
   },
   "outputs": [],
   "source": [
    "plot_margins(results)"
   ]
  }
 ],
 "metadata": {
  "kernelspec": {
   "display_name": "Python 2",
   "language": "python",
   "name": "python2"
  },
  "language_info": {
   "codemirror_mode": {
    "name": "ipython",
    "version": 2
   },
   "file_extension": ".py",
   "mimetype": "text/x-python",
   "name": "python",
   "nbconvert_exporter": "python",
   "pygments_lexer": "ipython2",
   "version": "2.7.13"
  }
 },
 "nbformat": 4,
 "nbformat_minor": 2
}
